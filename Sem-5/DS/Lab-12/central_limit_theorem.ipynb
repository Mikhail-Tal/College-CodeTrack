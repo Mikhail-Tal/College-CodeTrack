{
 "cells": [
  {
   "cell_type": "markdown",
   "metadata": {},
   "source": [
    "2. Generate a random data set of size 1000 for each independent and identically distributed\n",
    "\n",
    "(a). n Exponential Distribution,\n",
    "\n",
    "(b). n Uniform Distribution (self-study),\n",
    "\n",
    "(c). n Bernoulli Distribution.\n",
    "\n",
    "Numerically compute and plot the distribution of the sample mean (X1 +. . .+Xn )/n and corresponding “normal” approximation for n = 1, 2, 4, 8, 16, 32 for (a), (b), (c). This way, verify the Central Limit Theorem (CLT)."
   ]
  },
  {
   "cell_type": "code",
   "execution_count": 49,
   "metadata": {},
   "outputs": [],
   "source": [
    "import numpy as np\n",
    "import matplotlib.pyplot as plt"
   ]
  },
  {
   "cell_type": "markdown",
   "metadata": {},
   "source": [
    "## a. Exponential Distribution"
   ]
  },
  {
   "cell_type": "code",
   "execution_count": 50,
   "metadata": {},
   "outputs": [
    {
     "data": {
      "text/plain": [
       "array([0.01, 0.58, 4.85, 0.27, 0.82, 0.11, 0.44, 0.76, 0.1 , 0.35, 2.14,\n",
       "       0.39, 0.4 , 2.19, 0.14, 0.43, 2.24, 1.82, 3.21, 0.04, 0.12, 0.37,\n",
       "       0.49, 0.78, 0.35, 0.15, 0.72, 2.35, 0.87, 2.74, 0.15, 0.94, 2.23,\n",
       "       0.62, 0.75, 1.37, 0.05, 4.18, 2.95, 0.26, 0.96, 1.41, 0.06, 0.9 ,\n",
       "       1.28, 0.75, 0.74, 0.17, 0.36, 2.26, 2.67, 0.01, 0.56, 0.28, 2.43,\n",
       "       1.85, 0.38, 0.74, 1.5 , 0.71, 0.94, 0.16, 0.05, 1.75, 0.5 , 0.54,\n",
       "       1.85, 2.55, 0.73, 0.29, 1.24, 1.14, 0.92, 2.07, 1.37, 1.15, 1.81,\n",
       "       0.17, 0.7 , 0.54, 0.3 , 1.31, 2.8 , 1.55, 0.47, 2.92, 0.8 , 0.21,\n",
       "       0.08, 1.15, 2.03, 1.74, 0.09, 1.19, 0.6 , 4.18, 0.79, 0.6 , 0.75,\n",
       "       0.92, 1.26, 2.85, 0.2 , 1.16, 0.97, 0.42, 2.32, 0.55, 1.14, 1.62,\n",
       "       3.93, 1.75, 0.29, 5.21, 2.1 , 0.39, 1.69, 1.49, 0.91, 0.34, 0.44,\n",
       "       1.01, 0.05, 1.05, 0.03, 0.01, 1.63, 7.06, 0.56, 1.86, 2.24, 0.99,\n",
       "       1.02, 0.42, 2.06, 0.41, 2.34, 1.49, 1.07, 3.22, 0.73, 1.64, 6.99,\n",
       "       4.53, 1.86, 1.14, 1.5 , 0.22, 1.62, 0.57, 1.67, 0.43, 1.76, 0.78,\n",
       "       0.06, 0.54, 0.95, 2.8 , 0.37, 0.91, 0.88, 0.18, 0.47, 0.54, 0.09,\n",
       "       1.24, 0.43, 0.28, 5.85, 0.99, 0.58, 0.54, 0.08, 1.3 , 0.22, 0.96,\n",
       "       0.53, 0.22, 0.42, 0.02, 0.33, 0.54, 2.54, 1.37, 0.41, 0.18, 0.17,\n",
       "       0.62, 0.69, 0.39, 1.21, 0.59, 0.39, 0.46, 0.22, 0.58, 0.6 , 0.1 ,\n",
       "       1.33, 3.49, 0.35, 0.04, 1.45, 0.33, 0.14, 1.24, 0.06, 4.33, 1.94,\n",
       "       0.73, 0.18, 0.81, 0.86, 0.01, 0.19, 1.94, 2.8 , 0.42, 1.08, 0.1 ,\n",
       "       0.98, 0.45, 1.55, 0.04, 0.72, 0.06, 0.7 , 0.56, 0.86, 2.09, 0.62,\n",
       "       0.68, 2.15, 0.8 , 0.3 , 0.37, 2.07, 1.23, 0.8 , 3.12, 0.46, 2.39,\n",
       "       0.37, 0.99, 1.18, 4.54, 0.72, 0.  , 1.34, 0.38, 0.11, 1.14, 0.36,\n",
       "       0.27, 2.04, 0.2 , 0.13, 2.16, 0.27, 0.04, 0.09, 3.37, 0.46, 1.42,\n",
       "       1.32, 0.81, 0.69, 3.03, 0.86, 2.63, 0.03, 1.12, 0.36, 0.15, 0.26,\n",
       "       1.07, 0.69, 0.12, 0.51, 0.9 , 0.82, 1.08, 0.83, 0.08, 0.52, 1.08,\n",
       "       0.24, 0.58, 0.58, 0.06, 0.16, 0.28, 2.61, 0.11, 2.54, 0.45, 0.73,\n",
       "       1.34, 0.68, 0.01, 1.26, 1.54, 0.72, 0.23, 3.33, 0.75, 0.31, 1.57,\n",
       "       0.42, 0.96, 0.6 , 1.24, 4.07, 0.15, 1.39, 1.  , 0.7 , 1.79, 2.17,\n",
       "       0.38, 0.14, 1.28, 0.48, 0.53, 0.88, 2.89, 1.32, 3.23, 0.05, 0.4 ,\n",
       "       1.6 , 0.35, 4.75, 0.07, 0.09, 3.21, 0.3 , 1.54, 0.15, 2.21, 1.18,\n",
       "       0.2 , 0.17, 0.72, 0.87, 2.28, 1.58, 0.53, 0.02, 1.13, 0.36, 0.11,\n",
       "       1.6 , 1.04, 0.  , 0.33, 0.9 , 1.83, 2.93, 0.24, 1.28, 0.19, 1.49,\n",
       "       1.07, 1.06, 1.42, 0.01, 0.55, 0.41, 0.26, 0.37, 0.24, 0.45, 1.25,\n",
       "       0.62, 0.35, 0.14, 0.39, 1.92, 0.49, 5.33, 0.83, 1.23, 0.15, 1.26,\n",
       "       0.98, 0.5 , 2.06, 0.86, 0.83, 0.28, 0.63, 0.7 , 0.53, 2.27, 1.1 ,\n",
       "       0.06, 0.84, 0.2 , 2.18, 0.17, 0.09, 2.57, 0.88, 0.83, 3.52, 2.23,\n",
       "       1.2 , 1.18, 0.47, 0.48, 0.4 , 0.86, 0.83, 0.35, 0.91, 0.42, 0.99,\n",
       "       0.35, 0.55, 1.38, 1.31, 0.07, 0.68, 1.72, 1.02, 0.89, 1.65, 1.02,\n",
       "       0.81, 0.11, 0.76, 0.26, 0.26, 0.73, 0.13, 1.03, 0.24, 3.09, 0.97,\n",
       "       0.28, 0.85, 0.25, 1.  , 0.79, 0.49, 0.04, 0.26, 0.83, 0.16, 2.44,\n",
       "       2.98, 0.52, 0.26, 0.55, 1.01, 0.23, 1.92, 0.14, 1.97, 1.1 , 0.7 ,\n",
       "       2.73, 0.55, 2.04, 1.58, 0.18, 0.78, 0.27, 0.44, 0.13, 0.95, 0.34,\n",
       "       1.  , 0.35, 0.47, 1.14, 0.38, 0.18, 1.13, 2.57, 0.3 , 2.03, 1.34,\n",
       "       5.6 , 1.58, 0.09, 0.19, 0.58, 0.46, 0.7 , 1.01, 0.18, 0.62, 1.26,\n",
       "       0.44, 0.24, 0.51, 0.24, 0.97, 0.73, 0.35, 0.1 , 1.63, 1.72, 0.22,\n",
       "       0.7 , 0.14, 0.82, 2.3 , 0.32, 1.3 , 0.81, 0.47, 1.9 , 0.81, 0.07,\n",
       "       0.78, 5.8 , 0.24, 2.61, 0.31, 0.52, 0.28, 1.24, 0.77, 1.54, 1.58,\n",
       "       0.59, 0.2 , 2.27, 1.32, 1.7 , 0.58, 1.43, 0.06, 0.84, 2.51, 0.2 ,\n",
       "       0.56, 0.19, 0.99, 0.51, 0.48, 1.97, 1.68, 0.26, 0.2 , 0.03, 1.65,\n",
       "       0.9 , 0.51, 0.26, 0.17, 2.35, 1.05, 0.26, 0.8 , 0.1 , 0.81, 1.73,\n",
       "       0.15, 0.21, 0.18, 0.32, 0.37, 0.04, 0.61, 0.84, 0.61, 0.19, 2.85,\n",
       "       0.82, 0.34, 4.61, 3.73, 1.47, 0.04, 2.94, 1.01, 0.44, 0.65, 2.07,\n",
       "       2.61, 0.42, 0.2 , 0.48, 0.3 , 0.16, 1.04, 0.24, 0.18, 0.66, 1.57,\n",
       "       0.32, 0.17, 2.22, 0.87, 3.33, 0.13, 0.09, 0.15, 1.99, 2.27, 0.34,\n",
       "       2.01, 0.8 , 7.18, 0.34, 1.27, 0.8 , 1.12, 0.58, 0.72, 0.57, 3.04,\n",
       "       0.45, 0.89, 0.55, 0.1 , 1.78, 0.15, 0.68, 2.08, 2.31, 0.15, 0.51,\n",
       "       0.02, 0.08, 0.01, 0.13, 1.  , 1.7 , 1.71, 0.32, 1.23, 0.5 , 2.6 ,\n",
       "       0.7 , 0.54, 0.19, 0.54, 0.49, 0.56, 1.67, 0.47, 1.91, 0.78, 0.24,\n",
       "       1.83, 0.86, 0.1 , 0.69, 0.16, 0.8 , 0.62, 1.3 , 0.17, 3.61, 0.39,\n",
       "       0.53, 0.41, 4.12, 5.97, 0.78, 0.05, 0.81, 0.82, 2.  , 0.12, 2.79,\n",
       "       0.79, 0.51, 0.23, 1.02, 0.84, 1.2 , 1.04, 2.19, 2.66, 1.32, 0.24,\n",
       "       0.11, 0.61, 0.42, 1.44, 2.17, 0.85, 0.83, 0.38, 0.04, 0.86, 0.42,\n",
       "       2.  , 0.11, 0.11, 0.48, 1.14, 1.11, 2.75, 1.09, 0.21, 1.04, 0.5 ,\n",
       "       0.64, 2.18, 0.11, 1.23, 2.16, 0.31, 2.41, 2.61, 2.77, 0.26, 1.89,\n",
       "       0.15, 2.88, 1.13, 0.98, 0.47, 0.03, 0.06, 0.25, 1.32, 0.15, 0.85,\n",
       "       1.23, 2.4 , 1.25, 0.71, 0.43, 1.51, 0.23, 0.4 , 3.12, 0.25, 0.62,\n",
       "       1.  , 4.29, 0.21, 1.29, 1.45, 0.31, 1.23, 0.43, 2.19, 1.35, 1.39,\n",
       "       0.66, 0.22, 0.52, 0.1 , 1.66, 0.22, 1.66, 1.02, 1.23, 0.48, 0.6 ,\n",
       "       1.24, 0.76, 3.09, 0.07, 0.31, 0.58, 0.24, 0.16, 0.93, 1.99, 0.53,\n",
       "       0.01, 0.35, 1.88, 0.21, 0.92, 0.72, 0.84, 0.19, 1.48, 0.74, 0.97,\n",
       "       1.62, 0.04, 1.39, 0.11, 1.68, 5.24, 1.55, 0.42, 0.8 , 1.33, 0.18,\n",
       "       1.9 , 1.41, 0.76, 0.12, 3.09, 0.05, 1.37, 2.62, 0.64, 2.36, 1.96,\n",
       "       0.39, 0.09, 0.41, 0.14, 2.23, 2.26, 0.74, 0.31, 1.63, 0.48, 1.23,\n",
       "       4.65, 0.83, 1.61, 1.04, 0.08, 1.08, 0.  , 0.23, 1.69, 0.49, 0.  ,\n",
       "       0.23, 1.05, 0.52, 0.05, 0.06, 0.67, 4.93, 1.02, 1.29, 2.36, 1.2 ,\n",
       "       0.27, 4.22, 0.37, 0.7 , 0.69, 0.43, 0.51, 2.2 , 1.06, 0.29, 0.05,\n",
       "       2.24, 1.72, 0.71, 1.84, 0.22, 0.93, 1.1 , 0.15, 0.78, 1.05, 2.15,\n",
       "       2.09, 0.54, 0.21, 0.42, 1.7 , 0.32, 0.11, 2.07, 6.9 , 1.98, 0.19,\n",
       "       0.74, 1.15, 0.06, 0.55, 0.59, 1.  , 0.19, 0.51, 0.06, 0.04, 0.82,\n",
       "       1.32, 1.64, 0.43, 0.8 , 0.06, 2.61, 0.5 , 0.78, 1.08, 0.62, 1.93,\n",
       "       0.44, 1.38, 3.21, 1.65, 0.01, 0.41, 1.12, 1.66, 0.24, 0.81, 1.96,\n",
       "       0.29, 0.4 , 0.48, 0.26, 0.47, 3.07, 2.91, 0.73, 0.44, 0.8 , 1.48,\n",
       "       0.01, 1.29, 1.08, 1.95, 0.44, 0.62, 0.09, 0.06, 0.59, 1.7 , 0.48,\n",
       "       1.41, 1.08, 2.06, 0.56, 0.13, 1.25, 2.05, 1.37, 0.6 , 0.73, 0.02,\n",
       "       0.18, 1.21, 2.27, 0.15, 3.14, 2.79, 0.27, 0.34, 0.44, 0.79, 0.53,\n",
       "       0.48, 1.8 , 4.91, 0.16, 0.74, 0.89, 0.16, 1.79, 0.22, 0.4 , 0.41,\n",
       "       0.69, 0.04, 0.69, 0.87, 1.17, 0.64, 1.45, 0.14, 1.4 , 0.5 , 1.35,\n",
       "       0.08, 0.15, 4.03, 0.05, 0.66, 0.78, 5.46, 0.2 , 1.32, 0.42, 1.37,\n",
       "       0.38, 1.25, 0.23, 0.68, 1.85, 0.6 , 1.33, 1.16, 0.22, 1.76, 2.71,\n",
       "       1.05, 0.83, 2.97, 0.39, 2.87, 0.05, 0.09, 0.19, 0.54, 6.76])"
      ]
     },
     "execution_count": 50,
     "metadata": {},
     "output_type": "execute_result"
    }
   ],
   "source": [
    "def generate_rand_exponential(size = 1000):\n",
    "\tds = np.random.exponential(size = size, scale = 1.0)\n",
    "\tds = np.array([round(x, 2) for x in ds])\n",
    "\treturn ds\n",
    "generate_rand_exponential()"
   ]
  },
  {
   "cell_type": "markdown",
   "metadata": {},
   "source": [
    "## b. Uniform Distribution"
   ]
  },
  {
   "cell_type": "code",
   "execution_count": 51,
   "metadata": {},
   "outputs": [
    {
     "data": {
      "text/plain": [
       "array([1.64, 0.58, 1.54, 0.72, 1.51, 0.8 , 1.68, 0.38, 1.06, 1.6 , 2.  ,\n",
       "       0.61, 0.45, 0.42, 1.7 , 1.96, 1.72, 0.41, 0.08, 0.06, 1.64, 1.96,\n",
       "       1.54, 0.03, 1.42, 1.09, 0.23, 1.79, 1.63, 0.63, 1.59, 1.58, 1.08,\n",
       "       0.06, 1.12, 1.08, 1.79, 0.02, 0.02, 0.12, 0.92, 1.46, 0.84, 0.95,\n",
       "       0.06, 1.76, 1.19, 0.59, 1.16, 1.41, 1.73, 1.48, 1.38, 0.05, 1.44,\n",
       "       1.11, 1.97, 1.51, 0.87, 0.71, 1.96, 0.67, 0.75, 1.11, 1.2 , 0.61,\n",
       "       0.67, 1.95, 0.2 , 1.02, 1.61, 0.72, 0.63, 1.37, 0.75, 1.49, 0.99,\n",
       "       1.03, 0.25, 1.62, 0.31, 0.66, 0.65, 0.99, 0.54, 1.76, 1.74, 1.72,\n",
       "       0.33, 0.7 , 1.47, 0.51, 1.38, 1.65, 0.67, 1.65, 1.85, 1.97, 0.77,\n",
       "       1.5 , 0.97, 0.65, 1.63, 1.94, 1.32, 0.71, 1.2 , 1.73, 1.76, 1.4 ,\n",
       "       1.05, 0.87, 1.69, 1.82, 1.52, 1.19, 0.11, 1.25, 0.92, 1.77, 1.88,\n",
       "       1.5 , 1.25, 1.83, 0.58, 0.25, 0.92, 1.66, 0.14, 0.54, 1.7 , 0.61,\n",
       "       0.96, 1.55, 0.71, 0.77, 1.73, 1.96, 0.83, 1.94, 0.53, 0.12, 0.58,\n",
       "       0.87, 0.21, 1.52, 0.39, 0.88, 1.69, 0.18, 0.86, 0.59, 0.22, 1.02,\n",
       "       0.06, 1.38, 1.74, 1.57, 1.  , 1.05, 0.24, 1.15, 0.05, 0.48, 0.24,\n",
       "       1.61, 0.63, 0.03, 1.13, 0.42, 0.64, 1.13, 1.31, 0.  , 0.03, 1.07,\n",
       "       0.25, 0.75, 0.81, 0.67, 0.49, 1.24, 0.43, 0.2 , 1.38, 0.62, 1.33,\n",
       "       0.09, 0.53, 1.15, 1.53, 0.95, 1.71, 1.03, 1.99, 0.27, 1.69, 1.53,\n",
       "       0.35, 1.78, 0.63, 1.01, 1.46, 1.54, 0.91, 0.09, 0.96, 0.86, 1.08,\n",
       "       1.72, 0.15, 1.95, 0.77, 0.41, 1.51, 1.69, 1.11, 0.81, 1.73, 1.49,\n",
       "       0.55, 1.84, 1.49, 0.83, 1.25, 0.32, 1.94, 0.17, 1.07, 1.77, 1.15,\n",
       "       0.71, 0.  , 1.16, 0.22, 1.25, 1.47, 1.76, 0.92, 1.49, 0.56, 0.8 ,\n",
       "       1.92, 1.29, 1.5 , 0.37, 1.31, 0.71, 0.95, 1.18, 0.82, 0.81, 1.86,\n",
       "       0.91, 1.6 , 1.82, 1.37, 0.76, 1.64, 1.47, 0.45, 1.02, 1.  , 1.52,\n",
       "       0.58, 1.74, 1.93, 0.55, 1.8 , 0.01, 1.58, 0.46, 1.35, 0.93, 0.88,\n",
       "       1.72, 1.41, 1.21, 0.61, 1.18, 1.45, 0.77, 1.04, 1.86, 0.9 , 0.88,\n",
       "       1.76, 1.91, 1.36, 0.03, 1.51, 1.42, 0.29, 0.36, 1.  , 0.09, 1.36,\n",
       "       0.33, 0.29, 0.02, 1.69, 0.68, 1.39, 1.12, 0.69, 1.87, 0.01, 1.57,\n",
       "       0.84, 1.37, 0.76, 0.01, 0.79, 0.96, 1.11, 0.19, 1.52, 1.67, 1.96,\n",
       "       1.71, 0.44, 0.55, 1.43, 1.48, 1.08, 0.6 , 0.71, 1.69, 0.72, 0.55,\n",
       "       1.42, 1.5 , 0.94, 1.86, 0.74, 0.44, 0.45, 0.23, 1.22, 1.46, 1.09,\n",
       "       0.64, 0.27, 0.04, 1.53, 1.51, 1.38, 0.85, 0.73, 0.85, 0.11, 1.59,\n",
       "       1.98, 1.57, 0.64, 0.16, 1.95, 1.2 , 1.45, 1.8 , 1.64, 0.94, 0.05,\n",
       "       0.19, 0.82, 1.48, 1.67, 0.23, 0.93, 1.35, 0.15, 0.77, 0.7 , 1.8 ,\n",
       "       1.21, 0.39, 0.57, 0.29, 1.06, 1.48, 1.66, 1.19, 0.77, 0.79, 0.61,\n",
       "       0.39, 1.08, 1.3 , 1.64, 0.02, 1.08, 0.95, 0.13, 1.48, 1.32, 0.26,\n",
       "       1.8 , 0.1 , 0.56, 0.06, 1.12, 0.48, 1.32, 1.29, 1.16, 0.73, 1.66,\n",
       "       0.36, 1.24, 0.5 , 1.73, 0.37, 0.78, 1.26, 0.61, 1.09, 0.04, 1.21,\n",
       "       1.35, 0.09, 1.28, 1.97, 1.77, 0.76, 1.04, 0.96, 1.54, 0.07, 1.84,\n",
       "       1.41, 0.61, 1.83, 0.75, 0.69, 0.18, 1.94, 1.93, 1.59, 1.24, 0.63,\n",
       "       0.47, 0.94, 1.39, 0.37, 0.4 , 1.46, 1.96, 0.04, 1.34, 1.82, 0.6 ,\n",
       "       0.83, 1.28, 1.06, 1.43, 1.22, 1.82, 0.49, 0.46, 1.32, 0.5 , 1.05,\n",
       "       1.17, 0.9 , 1.22, 1.88, 0.69, 0.88, 1.6 , 1.23, 0.91, 0.53, 0.94,\n",
       "       1.73, 0.86, 0.18, 1.61, 1.5 , 0.24, 0.5 , 0.21, 0.03, 1.06, 1.38,\n",
       "       1.83, 0.42, 0.44, 1.66, 1.6 , 0.57, 1.94, 0.41, 0.74, 1.94, 1.96,\n",
       "       0.55, 0.76, 0.43, 1.82, 0.85, 1.5 , 1.86, 1.91, 0.24, 1.08, 0.96,\n",
       "       1.82, 0.41, 1.96, 0.94, 0.28, 0.8 , 1.06, 0.66, 0.45, 1.77, 0.23,\n",
       "       0.14, 0.49, 0.77, 1.19, 1.76, 1.64, 0.73, 0.19, 1.2 , 1.06, 0.48,\n",
       "       1.64, 1.55, 1.44, 0.69, 1.17, 0.63, 0.43, 0.87, 1.69, 0.23, 0.85,\n",
       "       1.92, 0.24, 1.22, 1.92, 0.9 , 0.88, 1.34, 1.07, 0.39, 0.97, 0.21,\n",
       "       1.82, 0.17, 0.38, 0.6 , 0.58, 0.66, 1.49, 1.98, 1.21, 0.67, 0.5 ,\n",
       "       0.96, 0.11, 1.31, 0.16, 1.08, 0.08, 0.2 , 0.79, 0.26, 0.15, 1.48,\n",
       "       0.75, 1.1 , 0.23, 0.99, 1.23, 0.85, 1.99, 0.85, 1.96, 1.87, 0.48,\n",
       "       1.29, 0.05, 0.81, 0.83, 1.78, 0.99, 1.7 , 0.33, 0.34, 0.49, 1.88,\n",
       "       1.  , 0.31, 1.66, 1.02, 1.74, 1.56, 0.83, 0.05, 0.81, 0.14, 0.52,\n",
       "       0.32, 0.81, 1.69, 0.05, 1.57, 0.05, 0.06, 0.78, 0.31, 1.48, 1.45,\n",
       "       0.34, 1.77, 0.68, 1.99, 0.41, 1.08, 0.57, 0.97, 1.51, 0.19, 0.16,\n",
       "       1.  , 1.37, 0.64, 0.8 , 1.74, 0.36, 0.68, 1.82, 1.11, 1.82, 0.99,\n",
       "       0.92, 1.03, 0.17, 1.5 , 1.43, 1.11, 0.61, 1.58, 0.18, 1.87, 0.3 ,\n",
       "       0.83, 1.35, 1.73, 1.03, 1.06, 0.02, 1.27, 1.94, 1.9 , 1.47, 1.41,\n",
       "       0.6 , 1.77, 0.67, 1.92, 0.97, 1.02, 0.91, 1.83, 1.09, 0.68, 1.44,\n",
       "       0.04, 1.51, 0.7 , 0.34, 0.72, 0.89, 1.02, 0.34, 1.22, 0.04, 0.22,\n",
       "       0.57, 0.23, 0.82, 1.7 , 1.54, 0.85, 0.37, 0.45, 1.17, 1.21, 0.69,\n",
       "       0.77, 1.57, 0.71, 1.07, 0.98, 0.34, 1.17, 0.85, 1.48, 1.34, 1.57,\n",
       "       1.44, 1.42, 1.93, 1.87, 1.42, 0.73, 0.21, 1.29, 1.32, 0.52, 0.2 ,\n",
       "       1.24, 0.14, 0.59, 1.43, 1.07, 1.26, 1.67, 0.71, 0.36, 1.14, 1.63,\n",
       "       0.49, 0.25, 1.09, 0.1 , 0.84, 0.59, 0.89, 0.35, 0.35, 1.11, 1.38,\n",
       "       0.99, 1.39, 1.04, 1.15, 0.86, 0.97, 1.82, 1.99, 0.82, 0.75, 0.46,\n",
       "       0.2 , 0.3 , 0.47, 0.63, 0.02, 0.57, 0.22, 0.57, 1.86, 1.01, 0.2 ,\n",
       "       0.58, 0.31, 0.06, 0.76, 0.93, 0.95, 1.1 , 0.09, 1.78, 1.12, 1.47,\n",
       "       1.73, 1.29, 0.24, 1.67, 1.23, 1.58, 1.49, 1.39, 0.68, 1.2 , 0.64,\n",
       "       0.47, 0.86, 0.46, 0.76, 1.67, 1.2 , 0.34, 1.62, 0.8 , 1.95, 0.05,\n",
       "       1.7 , 0.02, 1.74, 0.2 , 0.61, 0.93, 0.57, 1.45, 1.89, 1.29, 1.45,\n",
       "       0.38, 0.32, 0.99, 0.59, 1.02, 0.01, 0.47, 0.25, 1.86, 0.7 , 1.87,\n",
       "       1.43, 0.17, 1.32, 0.45, 0.55, 1.49, 1.22, 0.92, 1.67, 0.94, 1.65,\n",
       "       1.41, 1.21, 1.36, 1.12, 0.14, 0.19, 0.11, 1.85, 0.19, 1.87, 1.85,\n",
       "       1.39, 0.13, 1.01, 0.45, 0.49, 0.94, 1.13, 0.7 , 0.96, 1.55, 1.3 ,\n",
       "       0.57, 0.6 , 0.48, 0.74, 1.46, 1.2 , 0.46, 0.16, 1.85, 1.45, 1.9 ,\n",
       "       1.82, 1.33, 0.84, 0.22, 1.8 , 0.18, 0.87, 0.35, 1.41, 0.77, 1.95,\n",
       "       1.34, 1.73, 1.44, 1.53, 1.45, 1.11, 1.7 , 0.7 , 1.87, 1.32, 0.75,\n",
       "       1.71, 1.97, 1.49, 1.71, 1.71, 0.83, 0.15, 1.17, 1.62, 1.34, 0.99,\n",
       "       0.35, 0.86, 0.33, 1.91, 1.73, 1.76, 2.  , 1.28, 0.07, 0.42, 0.31,\n",
       "       0.22, 0.69, 1.93, 0.93, 1.96, 1.26, 1.43, 1.01, 0.17, 1.15, 1.17,\n",
       "       0.51, 0.87, 0.43, 0.47, 0.91, 1.71, 1.28, 0.33, 0.61, 1.77, 1.88,\n",
       "       0.98, 0.02, 1.85, 0.17, 0.55, 0.83, 0.66, 1.36, 1.89, 1.18, 1.76,\n",
       "       1.83, 0.69, 1.  , 0.6 , 1.46, 1.43, 0.05, 0.09, 1.35, 1.98, 0.63,\n",
       "       0.57, 1.55, 1.57, 1.45, 1.71, 1.83, 1.02, 1.55, 1.33, 1.94, 1.48,\n",
       "       1.57, 1.47, 1.73, 0.12, 1.16, 1.75, 1.88, 0.63, 1.77, 0.88, 0.06,\n",
       "       0.68, 0.47, 0.27, 0.46, 1.75, 1.64, 1.05, 0.26, 0.33, 1.34, 0.64,\n",
       "       1.25, 1.6 , 1.18, 1.41, 0.2 , 0.8 , 1.08, 1.61, 0.24, 0.01, 0.61,\n",
       "       1.91, 0.15, 0.31, 1.57, 1.42, 1.79, 1.07, 0.09, 1.35, 0.31])"
      ]
     },
     "execution_count": 51,
     "metadata": {},
     "output_type": "execute_result"
    }
   ],
   "source": [
    "def generate_rand_uniform(size = 1000):\n",
    "\tds = np.random.uniform(0, 2, size = size)\n",
    "\tds = np.array([round(x, 2) for x in ds])\n",
    "\treturn ds\n",
    "generate_rand_uniform()"
   ]
  },
  {
   "cell_type": "markdown",
   "metadata": {},
   "source": [
    "## c. Bernoulli Distribution"
   ]
  },
  {
   "cell_type": "code",
   "execution_count": 52,
   "metadata": {},
   "outputs": [
    {
     "data": {
      "text/plain": [
       "array([1, 0, 0, 0, 1, 0, 1, 0, 0, 1, 1, 1, 0, 1, 1, 0, 1, 1, 1, 1, 0, 1,\n",
       "       0, 0, 1, 0, 1, 0, 1, 0, 1, 1, 0, 1, 1, 0, 1, 1, 0, 1, 0, 1, 1, 1,\n",
       "       0, 1, 1, 1, 0, 0, 0, 0, 0, 1, 0, 1, 1, 0, 1, 0, 1, 1, 1, 1, 1, 0,\n",
       "       1, 0, 0, 1, 0, 1, 1, 1, 0, 0, 1, 1, 1, 1, 0, 0, 1, 1, 0, 0, 0, 0,\n",
       "       1, 1, 1, 0, 1, 0, 1, 1, 1, 0, 1, 0, 0, 1, 0, 0, 1, 0, 1, 0, 0, 1,\n",
       "       1, 0, 0, 0, 1, 0, 0, 0, 0, 0, 0, 1, 0, 1, 1, 0, 1, 1, 1, 0, 0, 0,\n",
       "       1, 1, 1, 0, 0, 1, 0, 1, 1, 1, 1, 1, 0, 1, 0, 0, 1, 1, 0, 0, 0, 1,\n",
       "       0, 0, 1, 1, 1, 0, 0, 1, 0, 1, 1, 0, 0, 1, 1, 0, 0, 0, 0, 0, 1, 0,\n",
       "       0, 1, 0, 1, 1, 0, 1, 0, 1, 1, 1, 1, 0, 1, 0, 0, 1, 0, 0, 0, 1, 1,\n",
       "       0, 0, 0, 0, 0, 0, 0, 1, 0, 1, 0, 1, 0, 1, 0, 0, 0, 1, 1, 1, 1, 0,\n",
       "       0, 0, 0, 0, 1, 0, 0, 1, 0, 1, 0, 1, 1, 1, 0, 1, 0, 0, 0, 1, 1, 0,\n",
       "       1, 1, 1, 0, 1, 1, 0, 0, 1, 1, 0, 1, 0, 1, 0, 0, 0, 0, 0, 1, 1, 0,\n",
       "       0, 0, 0, 0, 1, 1, 1, 1, 0, 0, 1, 1, 1, 0, 1, 1, 0, 0, 1, 1, 1, 0,\n",
       "       0, 1, 1, 0, 0, 0, 1, 0, 1, 0, 0, 1, 0, 1, 1, 0, 1, 1, 1, 1, 0, 0,\n",
       "       0, 1, 1, 1, 0, 0, 1, 0, 1, 0, 1, 1, 1, 0, 0, 1, 1, 1, 1, 1, 1, 0,\n",
       "       0, 0, 0, 0, 0, 1, 0, 0, 0, 0, 0, 0, 0, 1, 0, 1, 1, 1, 0, 1, 1, 0,\n",
       "       1, 0, 0, 1, 0, 0, 1, 1, 1, 0, 0, 0, 0, 0, 0, 0, 1, 1, 0, 1, 1, 0,\n",
       "       1, 0, 0, 0, 0, 1, 1, 1, 0, 0, 0, 0, 1, 0, 1, 1, 1, 1, 1, 0, 0, 1,\n",
       "       1, 1, 0, 0, 0, 0, 0, 0, 1, 1, 1, 1, 1, 1, 0, 0, 1, 1, 0, 1, 0, 1,\n",
       "       1, 1, 1, 1, 1, 1, 0, 0, 1, 1, 0, 1, 1, 0, 1, 1, 1, 0, 1, 1, 0, 0,\n",
       "       1, 0, 1, 0, 0, 0, 1, 1, 1, 1, 0, 0, 0, 1, 1, 1, 0, 1, 0, 0, 0, 0,\n",
       "       0, 0, 0, 0, 0, 0, 1, 0, 0, 1, 0, 1, 1, 1, 0, 0, 0, 0, 1, 1, 0, 1,\n",
       "       0, 1, 0, 0, 1, 1, 1, 1, 0, 0, 0, 0, 0, 0, 1, 0, 0, 1, 0, 0, 1, 1,\n",
       "       1, 1, 0, 0, 0, 0, 0, 0, 1, 0, 1, 0, 0, 0, 1, 1, 1, 0, 1, 1, 0, 1,\n",
       "       1, 1, 0, 0, 1, 0, 0, 1, 1, 0, 0, 0, 0, 0, 0, 1, 0, 1, 0, 1, 1, 0,\n",
       "       1, 1, 0, 1, 0, 0, 0, 0, 0, 0, 0, 1, 0, 0, 0, 1, 1, 0, 1, 1, 0, 0,\n",
       "       0, 0, 0, 1, 1, 0, 0, 1, 1, 0, 0, 0, 1, 0, 0, 0, 0, 1, 0, 0, 0, 1,\n",
       "       1, 0, 1, 0, 0, 1, 1, 1, 0, 0, 1, 1, 1, 1, 1, 1, 0, 0, 1, 0, 1, 1,\n",
       "       0, 0, 1, 1, 1, 0, 0, 0, 1, 0, 1, 1, 1, 1, 0, 1, 1, 0, 1, 0, 0, 1,\n",
       "       1, 0, 0, 0, 0, 1, 0, 0, 1, 1, 0, 1, 1, 0, 1, 0, 1, 1, 0, 1, 0, 0,\n",
       "       1, 1, 1, 1, 0, 1, 1, 0, 1, 1, 0, 1, 0, 1, 0, 1, 1, 0, 1, 1, 1, 0,\n",
       "       0, 0, 0, 0, 1, 0, 0, 0, 0, 0, 1, 0, 1, 1, 1, 1, 1, 0, 1, 0, 0, 0,\n",
       "       1, 1, 0, 0, 1, 1, 1, 0, 1, 0, 1, 1, 1, 0, 1, 1, 0, 0, 1, 0, 0, 1,\n",
       "       1, 0, 1, 0, 1, 0, 0, 1, 1, 0, 0, 1, 1, 0, 0, 1, 0, 0, 0, 1, 1, 0,\n",
       "       1, 0, 1, 1, 0, 1, 1, 1, 1, 1, 1, 0, 0, 1, 1, 1, 0, 0, 0, 0, 1, 0,\n",
       "       0, 1, 0, 1, 1, 1, 1, 1, 0, 1, 1, 0, 0, 0, 1, 0, 0, 0, 0, 1, 1, 0,\n",
       "       1, 0, 1, 0, 0, 1, 0, 0, 0, 1, 0, 1, 0, 0, 0, 1, 0, 1, 1, 0, 1, 0,\n",
       "       0, 1, 1, 1, 1, 1, 1, 1, 1, 1, 1, 0, 0, 1, 1, 1, 0, 1, 1, 0, 1, 1,\n",
       "       0, 1, 1, 1, 1, 1, 1, 0, 0, 1, 0, 0, 0, 0, 1, 0, 0, 0, 0, 0, 1, 0,\n",
       "       1, 1, 0, 0, 1, 1, 1, 1, 0, 0, 0, 1, 0, 0, 0, 0, 1, 1, 0, 1, 1, 0,\n",
       "       0, 0, 0, 0, 0, 1, 0, 1, 1, 1, 0, 0, 0, 1, 0, 0, 0, 1, 1, 0, 0, 0,\n",
       "       0, 0, 0, 1, 0, 1, 0, 0, 0, 0, 1, 0, 1, 0, 0, 0, 1, 0, 1, 1, 0, 0,\n",
       "       0, 0, 0, 1, 0, 0, 1, 0, 0, 1, 0, 0, 1, 1, 1, 1, 0, 1, 0, 1, 1, 1,\n",
       "       1, 0, 0, 0, 1, 1, 1, 1, 0, 1, 1, 0, 0, 0, 0, 0, 0, 1, 0, 1, 1, 0,\n",
       "       0, 1, 1, 0, 0, 0, 0, 0, 1, 0, 0, 0, 0, 1, 0, 1, 0, 0, 0, 1, 0, 1,\n",
       "       0, 1, 1, 1, 1, 1, 1, 0, 0, 1])"
      ]
     },
     "execution_count": 52,
     "metadata": {},
     "output_type": "execute_result"
    }
   ],
   "source": [
    "def generate_rand_bernoulli(size = 1000):\n",
    "\tds = np.random.binomial(1, 0.5, size = size)\n",
    "\tds = np.array([round(x, 2) for x in ds])\n",
    "\treturn ds\n",
    "generate_rand_bernoulli()"
   ]
  },
  {
   "cell_type": "code",
   "execution_count": 53,
   "metadata": {},
   "outputs": [],
   "source": [
    "sizes = [1, 2, 4, 8, 16, 32]"
   ]
  },
  {
   "cell_type": "markdown",
   "metadata": {},
   "source": [
    "- Exponential CLT"
   ]
  },
  {
   "cell_type": "code",
   "execution_count": 54,
   "metadata": {},
   "outputs": [],
   "source": [
    "ds_e = generate_rand_exponential()\n",
    "sum_e = 0\n",
    "for x in ds_e:\n",
    "\tsum_e += x\n",
    "mean_e = sum_e/1000\n",
    "sum_e = 0\n",
    "for x in ds_e:\n",
    "\tsum_e += (x - mean_e)**2\n",
    "std_e = (sum_e/1000)**(1/2)"
   ]
  },
  {
   "cell_type": "code",
   "execution_count": 55,
   "metadata": {},
   "outputs": [
    {
     "data": {
      "image/png": "[encoded data removed]",
      "text/plain": [
       "<Figure size 432x288 with 1 Axes>"
      ]
     },
     "metadata": {
      "needs_background": "light"
     },
     "output_type": "display_data"
    }
   ],
   "source": [
    "def verify_clt_exponential():\n",
    "\tmeans = [np.mean(generate_rand_exponential(n)) for n in sizes]\n",
    "\tnormals = [(x - mean_e)/(std_e/(1000**1/2)) for x in means]\n",
    "\tplt.plot(means, normals)\n",
    "\tplt.xlabel(\"Sample Mean\")\n",
    "\tplt.ylabel(\"Normal Approximation\")\n",
    "\tplt.title(\"Exponential Distribution CLT Verification\")\n",
    "\tplt.show()\n",
    "verify_clt_exponential()"
   ]
  },
  {
   "cell_type": "markdown",
   "metadata": {},
   "source": [
    "- Uniform CLT"
   ]
  },
  {
   "cell_type": "code",
   "execution_count": 56,
   "metadata": {},
   "outputs": [],
   "source": [
    "ds_u = generate_rand_uniform()\n",
    "sum_u = 0\n",
    "for x in ds_u:\n",
    "\tsum_u += x\n",
    "mean_u = sum_u/1000\n",
    "sum_u = 0\n",
    "for x in ds_u:\n",
    "\tsum_u += (x - mean_u)**2\n",
    "std_u = (sum_u/1000)**(1/2)"
   ]
  },
  {
   "cell_type": "code",
   "execution_count": 57,
   "metadata": {},
   "outputs": [
    {
     "data": {
      "image/png": "[encoded data removed]",
      "text/plain": [
       "<Figure size 432x288 with 1 Axes>"
      ]
     },
     "metadata": {
      "needs_background": "light"
     },
     "output_type": "display_data"
    }
   ],
   "source": [
    "def verify_clt_uniform():\n",
    "\tmeans = [np.mean(generate_rand_uniform(n)) for n in sizes]\n",
    "\tnormals = [(x - mean_u)/(std_u/(1000**1/2)) for x in means]\n",
    "\tplt.plot(means, normals)\n",
    "\tplt.xlabel(\"Sample Mean\")\n",
    "\tplt.ylabel(\"Normal Approximation\")\n",
    "\tplt.title(\"Uniform Distribution CLT Verification\")\n",
    "\tplt.show()\n",
    "verify_clt_uniform()"
   ]
  },
  {
   "cell_type": "markdown",
   "metadata": {},
   "source": [
    "- Bernoulli CLT"
   ]
  },
  {
   "cell_type": "code",
   "execution_count": 58,
   "metadata": {},
   "outputs": [],
   "source": [
    "ds_b = generate_rand_bernoulli()\n",
    "sum_b = 0\n",
    "for x in ds_b:\n",
    "\tsum_b += x\n",
    "mean_b = sum_b/1000\n",
    "sum_b = 0\n",
    "for x in ds_b:\n",
    "\tsum_b += (x - mean_b)**2\n",
    "std_b = (sum_b/1000)**(1/2)"
   ]
  },
  {
   "cell_type": "code",
   "execution_count": 59,
   "metadata": {},
   "outputs": [
    {
     "data": {
      "image/png": "[encoded data removed]",
      "text/plain": [
       "<Figure size 432x288 with 1 Axes>"
      ]
     },
     "metadata": {
      "needs_background": "light"
     },
     "output_type": "display_data"
    }
   ],
   "source": [
    "def verify_clt_bernoulli():\n",
    "\tmeans = [np.mean(generate_rand_bernoulli(n)) for n in sizes]\n",
    "\tnormals = [(x - mean_b)/(std_b/(1000**1/2)) for x in means]\n",
    "\tplt.plot(means, normals)\n",
    "\tplt.xlabel(\"Sample Mean\")\n",
    "\tplt.ylabel(\"Normal Approximation\")\n",
    "\tplt.title(\"Bernoulli Distribution CLT Verification\")\n",
    "\tplt.show()\n",
    "verify_clt_bernoulli()"
   ]
  },
  {
   "cell_type": "markdown",
   "metadata": {},
   "source": [
    "These above graphs proves the central limit theorem.\n",
    "```\n",
    "i.e., the distribution of averages of iid variables (properly normalized) becomes that of a standard normal as the sample size increases\n",
    "```"
   ]
  }
 ],
 "metadata": {
  "kernelspec": {
   "display_name": "Python 3.9.12 ('base')",
   "language": "python",
   "name": "python3"
  },
  "language_info": {
   "codemirror_mode": {
    "name": "ipython",
    "version": 3
   },
   "file_extension": ".py",
   "mimetype": "text/x-python",
   "name": "python",
   "nbconvert_exporter": "python",
   "pygments_lexer": "ipython3",
   "version": "3.9.12"
  },
  "orig_nbformat": 4,
  "vscode": {
   "interpreter": {
    "hash": "6863e040e8981097dbf29d10dc72ab85d80010d98b5512de1073715d1caccbff"
   }
  }
 },
 "nbformat": 4,
 "nbformat_minor": 2
}
