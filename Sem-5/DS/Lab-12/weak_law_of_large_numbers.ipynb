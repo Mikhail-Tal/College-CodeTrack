{
 "cells": [
  {
   "cell_type": "markdown",
   "metadata": {},
   "source": [
    "1. Generate a random data set x1 , . . . , xm of size m for\n",
    "\n",
    "    a. Exponential Distribution,\n",
    "\n",
    "    b. Uniform Distribution (self-study),\n",
    "\n",
    "    c. Bernoulli Distribution.\n",
    "\n",
    "Plot the sample mean (x1 + . . . + xm )/m for m = 10, 100, 500, 1000, 5000, 10000, 50000 for (a), (b), (c). This way, verify the weak law of large numbers (WLLN)."
   ]
  },
  {
   "cell_type": "markdown",
   "metadata": {},
   "source": [
    "## a. Exponential Distribution"
   ]
  },
  {
   "cell_type": "code",
   "execution_count": 2,
   "metadata": {},
   "outputs": [],
   "source": [
    "import numpy as np\n",
    "import matplotlib.pyplot as plt"
   ]
  },
  {
   "cell_type": "code",
   "execution_count": 3,
   "metadata": {},
   "outputs": [],
   "source": [
    "random_sizes = [10, 100, 500, 1000, 5000, 10000, 50000]"
   ]
  },
  {
   "cell_type": "code",
   "execution_count": 4,
   "metadata": {},
   "outputs": [],
   "source": [
    "def generate_rand_exponential(size = 100):\n",
    "\tds = np.random.exponential(size = size, scale = 1.0)\n",
    "\tds = np.array([round(x, 2) for x in ds])\n",
    "\treturn ds"
   ]
  },
  {
   "cell_type": "code",
   "execution_count": 5,
   "metadata": {},
   "outputs": [
    {
     "data": {
      "text/plain": [
       "array([1.46, 0.2 , 0.08, 0.86, 0.17, 0.28, 0.85, 0.17, 0.19, 0.76, 0.16,\n",
       "       2.01, 0.02, 1.34, 0.81, 0.14, 0.51, 0.97, 1.09, 1.47, 0.6 , 1.39,\n",
       "       1.68, 4.4 , 0.19, 1.09, 1.  , 0.43, 0.96, 0.35, 0.29, 0.79, 0.41,\n",
       "       1.5 , 0.18, 0.04, 1.82, 0.14, 0.05, 0.06, 0.22, 1.29, 0.11, 2.2 ,\n",
       "       0.35, 0.18, 0.33, 0.09, 0.46, 2.18, 0.22, 0.04, 0.49, 2.39, 1.41,\n",
       "       1.85, 0.  , 1.87, 1.84, 2.6 , 0.86, 0.28, 2.52, 1.17, 0.55, 1.47,\n",
       "       0.16, 0.65, 1.72, 0.12, 2.57, 0.13, 1.33, 0.15, 0.44, 0.26, 1.01,\n",
       "       0.24, 0.17, 0.06, 0.19, 1.4 , 0.08, 0.11, 1.12, 0.23, 0.54, 1.55,\n",
       "       3.26, 0.92, 0.96, 1.25, 0.25, 1.7 , 2.93, 2.31, 0.16, 0.43, 1.87,\n",
       "       0.01])"
      ]
     },
     "execution_count": 5,
     "metadata": {},
     "output_type": "execute_result"
    }
   ],
   "source": [
    "generate_rand_exponential()"
   ]
  },
  {
   "cell_type": "markdown",
   "metadata": {},
   "source": [
    "## b. Uniform distribution"
   ]
  },
  {
   "cell_type": "code",
   "execution_count": 6,
   "metadata": {},
   "outputs": [],
   "source": [
    "def generate_rand_uniform(size = 100):\n",
    "\tds = np.random.uniform(0, 2, size = size)\n",
    "\tds = np.array([round(x, 2) for x in ds])\n",
    "\treturn ds"
   ]
  },
  {
   "cell_type": "code",
   "execution_count": 7,
   "metadata": {},
   "outputs": [
    {
     "data": {
      "text/plain": [
       "array([0.47, 1.55, 0.1 , 1.85, 0.25, 1.28, 1.83, 0.93, 0.57, 1.24, 0.23,\n",
       "       1.11, 0.99, 1.32, 0.72, 0.34, 1.53, 0.75, 1.66, 1.38, 1.23, 0.54,\n",
       "       0.9 , 1.44, 1.68, 0.31, 0.7 , 0.31, 1.8 , 0.19, 0.32, 1.4 , 1.36,\n",
       "       1.21, 1.59, 1.8 , 0.71, 1.04, 1.09, 1.12, 0.04, 0.66, 0.36, 1.84,\n",
       "       0.89, 0.89, 1.55, 1.98, 1.81, 1.58, 0.26, 0.49, 1.98, 0.17, 0.14,\n",
       "       1.17, 0.4 , 0.58, 1.6 , 0.07, 1.88, 0.8 , 0.97, 1.51, 1.42, 0.36,\n",
       "       1.84, 0.39, 1.32, 1.42, 0.92, 0.61, 1.1 , 0.01, 0.98, 0.87, 1.46,\n",
       "       0.08, 0.94, 0.17, 1.98, 1.93, 0.31, 0.65, 0.3 , 1.44, 0.12, 1.28,\n",
       "       0.56, 1.4 , 1.91, 0.65, 1.33, 1.72, 1.97, 1.09, 0.99, 0.59, 0.54,\n",
       "       0.06])"
      ]
     },
     "execution_count": 7,
     "metadata": {},
     "output_type": "execute_result"
    }
   ],
   "source": [
    "generate_rand_uniform()"
   ]
  },
  {
   "cell_type": "markdown",
   "metadata": {},
   "source": [
    "## c. Bernoulli Distribution"
   ]
  },
  {
   "cell_type": "code",
   "execution_count": 8,
   "metadata": {},
   "outputs": [],
   "source": [
    "def generate_rand_bernoulli(size = 100):\n",
    "\tds = np.random.binomial(1, 0.5, size = size)\n",
    "\tds = np.array([round(x, 2) for x in ds])\n",
    "\treturn ds"
   ]
  },
  {
   "cell_type": "code",
   "execution_count": 9,
   "metadata": {},
   "outputs": [
    {
     "data": {
      "text/plain": [
       "array([0, 1, 1, 1, 0, 1, 1, 0, 1, 1, 0, 1, 1, 1, 1, 0, 0, 0, 0, 0, 1, 1,\n",
       "       0, 0, 0, 1, 0, 1, 0, 0, 1, 1, 1, 0, 0, 1, 0, 0, 0, 1, 0, 0, 0, 0,\n",
       "       0, 0, 0, 1, 0, 0, 0, 0, 0, 0, 0, 0, 1, 1, 0, 1, 1, 0, 1, 0, 0, 1,\n",
       "       0, 0, 0, 0, 1, 0, 1, 1, 0, 0, 1, 0, 0, 1, 0, 0, 0, 1, 0, 1, 1, 1,\n",
       "       0, 1, 0, 1, 1, 1, 1, 1, 1, 1, 1, 1])"
      ]
     },
     "execution_count": 9,
     "metadata": {},
     "output_type": "execute_result"
    }
   ],
   "source": [
    "generate_rand_bernoulli()"
   ]
  },
  {
   "cell_type": "markdown",
   "metadata": {},
   "source": [
    "- Plot for all three distributions with their respective sample means"
   ]
  },
  {
   "cell_type": "code",
   "execution_count": 10,
   "metadata": {},
   "outputs": [],
   "source": [
    "def plot_sample_mean_exponential(random_sizes):\n",
    "\t'''\n",
    "\tFunction for exponential distribution plot respect to their mean\n",
    "\t'''\n",
    "\tmeans = [np.mean(generate_rand_exponential(a)) for a in random_sizes]\n",
    "\tplt.plot(random_sizes, means)\n",
    "\tplt.xlabel(\"Sample Size\")\n",
    "\tplt.ylabel(\"Sample Mean\")\n",
    "\tplt.title(\"Exponential Distribution Sample Mean Plot\")\n",
    "\tplt.show()\n",
    "\n",
    "def plot_sample_mean_uniform(random_sizes):\n",
    "\t'''\n",
    "\tFunction for uniform distribution plot respect to their mean\n",
    "\t'''\n",
    "\tmeans = [np.mean(generate_rand_uniform(a)) for a in random_sizes]\n",
    "\tplt.plot(random_sizes, means)\n",
    "\tplt.xlabel(\"Sample Size\")\n",
    "\tplt.ylabel(\"Sample Mean\")\n",
    "\tplt.title(\"Uniform Distribution Sample Mean Plot\")\n",
    "\tplt.show()\n",
    "\n",
    "def plot_sample_mean_bernoulli(random_sizes):\n",
    "\t'''\n",
    "\tFunction for bernoulli distribution plot respect to their mean\n",
    "\t'''\n",
    "\tmeans = [np.mean(generate_rand_bernoulli(a)) for a in random_sizes]\n",
    "\tplt.plot(random_sizes, means)\n",
    "\tplt.xlabel(\"Sample Size\")\n",
    "\tplt.ylabel(\"Sample Mean\")\n",
    "\tplt.title(\"Bernoulli Distribution Sample Mean Plot\")\n",
    "\tplt.show()"
   ]
  },
  {
   "cell_type": "code",
   "execution_count": 12,
   "metadata": {},
   "outputs": [
    {
     "data": {
      "image/png": "[encoded data removed]",
      "text/plain": [
       "<Figure size 432x288 with 1 Axes>"
      ]
     },
     "metadata": {
      "needs_background": "light"
     },
     "output_type": "display_data"
    },
    {
     "data": {
      "image/png": "[encoded data removed]",
      "text/plain": [
       "<Figure size 432x288 with 1 Axes>"
      ]
     },
     "metadata": {
      "needs_background": "light"
     },
     "output_type": "display_data"
    },
    {
     "data": {
      "image/png": "[encoded data removed]",
      "text/plain": [
       "<Figure size 432x288 with 1 Axes>"
      ]
     },
     "metadata": {
      "needs_background": "light"
     },
     "output_type": "display_data"
    }
   ],
   "source": [
    "plot_sample_mean_exponential(random_sizes)\n",
    "plot_sample_mean_uniform(random_sizes)\n",
    "plot_sample_mean_bernoulli(random_sizes)"
   ]
  },
  {
   "cell_type": "markdown",
   "metadata": {},
   "source": [
    "The above three graphs shows how mean goes closer to the original value as we choose the large numbers as samples. This conveys the weak law of large numbers.\n",
    "```\n",
    "i.e., for any nonzero specified margin, no matter how small, there is a high probability that the average of a sufficiently large number of observations will be close to the expected value within the margin.\n",
    "```"
   ]
  }
 ],
 "metadata": {
  "kernelspec": {
   "display_name": "Python 3.9.12 ('base')",
   "language": "python",
   "name": "python3"
  },
  "language_info": {
   "codemirror_mode": {
    "name": "ipython",
    "version": 3
   },
   "file_extension": ".py",
   "mimetype": "text/x-python",
   "name": "python",
   "nbconvert_exporter": "python",
   "pygments_lexer": "ipython3",
   "version": "3.9.12"
  },
  "orig_nbformat": 4,
  "vscode": {
   "interpreter": {
    "hash": "6863e040e8981097dbf29d10dc72ab85d80010d98b5512de1073715d1caccbff"
   }
  }
 },
 "nbformat": 4,
 "nbformat_minor": 2
}
