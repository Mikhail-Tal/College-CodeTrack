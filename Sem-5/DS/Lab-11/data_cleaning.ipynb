{
 "cells": [
  {
   "cell_type": "code",
   "execution_count": 149,
   "metadata": {},
   "outputs": [],
   "source": [
    "import pandas as pd\n",
    "import matplotlib.pyplot as plt\n",
    "import numpy as np"
   ]
  },
  {
   "cell_type": "code",
   "execution_count": 150,
   "metadata": {},
   "outputs": [],
   "source": [
    "missing_file_name = \"landslide_data3_miss.csv\"\n",
    "original_file_name = \"landslide_data3_original.csv\"\n",
    "df_missing = pd.read_csv(missing_file_name)\n",
    "df_original = pd.read_csv(original_file_name)"
   ]
  },
  {
   "cell_type": "markdown",
   "metadata": {},
   "source": [
    "- Target attribute is “stationid”, Drop the tuples (rows) having missing values in the target attribute. Print the total number of tuples deleted"
   ]
  },
  {
   "cell_type": "code",
   "execution_count": 151,
   "metadata": {},
   "outputs": [
    {
     "name": "stdout",
     "output_type": "stream",
     "text": [
      "Number of tuples deleted after dropping NaN stationid rows: 19\n"
     ]
    }
   ],
   "source": [
    "df_missing_len_1 = len(df_missing.index)\n",
    "for row in df_missing.iterrows():\n",
    "\tindex = row[0]\n",
    "\tif pd.isna(row[1][\"stationid\"]):\n",
    "\t\tdf_missing.drop(index, inplace=True)\n",
    "print(f'Number of tuples deleted after dropping NaN stationid rows: {df_missing_len_1 - len(df_missing.index)}')"
   ]
  },
  {
   "cell_type": "markdown",
   "metadata": {},
   "source": [
    "-  Delete (drop) the tuples (rows) having equal to or more than one third of attributes with missing values. Print the total number of tuples deleted."
   ]
  },
  {
   "cell_type": "code",
   "execution_count": 152,
   "metadata": {},
   "outputs": [
    {
     "name": "stdout",
     "output_type": "stream",
     "text": [
      "Number of tuples deleted after dropping rows having more than or equal to 3 attributes as NaN: 35\n"
     ]
    }
   ],
   "source": [
    "df_missing_len_2 = len(df_missing.index)\n",
    "for row in df_missing.iterrows():\n",
    "\tcount = 0\n",
    "\tindex = row[0]\n",
    "\tfor value in row[1]:\n",
    "\t\tif pd.isna(value):\n",
    "\t\t\tcount += 1\n",
    "\tif count >= 3:\n",
    "\t\tdf_missing.drop(index, inplace=True)\n",
    "print(f'Number of tuples deleted after dropping rows having more than or equal to 3 attributes as NaN: {df_missing_len_2 - len(df_missing.index)}')"
   ]
  },
  {
   "cell_type": "markdown",
   "metadata": {},
   "source": [
    "- After (b), count and print the number of missing values in each attributes."
   ]
  },
  {
   "cell_type": "code",
   "execution_count": 153,
   "metadata": {},
   "outputs": [
    {
     "data": {
      "text/plain": [
       "dates            0\n",
       "stationid        0\n",
       "temperature     34\n",
       "humidity        13\n",
       "pressure        41\n",
       "rain             6\n",
       "lightavgw/o0    15\n",
       "lightmax         1\n",
       "moisture         6\n",
       "dtype: int64"
      ]
     },
     "execution_count": 153,
     "metadata": {},
     "output_type": "execute_result"
    }
   ],
   "source": [
    "missing_count = df_missing.isnull().sum()\n",
    "missing_count"
   ]
  },
  {
   "cell_type": "markdown",
   "metadata": {},
   "source": [
    "- Also find and print the total number of missing values in the file (after the deletion of tuples)."
   ]
  },
  {
   "cell_type": "code",
   "execution_count": 154,
   "metadata": {},
   "outputs": [
    {
     "name": "stdout",
     "output_type": "stream",
     "text": [
      "Total number of missing values after deletion in df are: 116\n"
     ]
    }
   ],
   "source": [
    "count = 0\n",
    "for value in missing_count:\n",
    "\tcount += value\n",
    "print(f\"Total number of missing values after deletion in df are: {count}\")"
   ]
  },
  {
   "cell_type": "markdown",
   "metadata": {},
   "source": [
    "- Replace the missing values by mean of their respective attribute. (Use df.fillna() with suitable arguments.) "
   ]
  },
  {
   "cell_type": "code",
   "execution_count": 155,
   "metadata": {},
   "outputs": [],
   "source": [
    "df_missing_columns = [column for column in df_missing.columns if column != \"dates\" and column != \"stationid\"]\n",
    "df_missing_replaced_by_mean = df_missing.copy()\n",
    "for column in df_missing_columns:\n",
    "\tdf_missing_replaced_by_mean[column].fillna(value=df_missing_replaced_by_mean[column].mean(), inplace=True)"
   ]
  },
  {
   "cell_type": "markdown",
   "metadata": {},
   "source": [
    "- Compute the mean, median, mode and standard deviation for each attributes and compare the same with that of the original file."
   ]
  },
  {
   "cell_type": "code",
   "execution_count": 156,
   "metadata": {},
   "outputs": [
    {
     "name": "stdout",
     "output_type": "stream",
     "text": [
      "-----Mean-----\n",
      "temperature        21.052444\n",
      "humidity           83.125974\n",
      "pressure         1009.465871\n",
      "rain            10798.378825\n",
      "lightavgw/o0     4458.297802\n",
      "lightmax        21463.221348\n",
      "moisture           32.602872\n",
      "dtype: float64\n",
      "-----Median-----\n",
      "temperature       21.927010\n",
      "humidity          91.000000\n",
      "pressure        1014.482302\n",
      "rain              15.750000\n",
      "lightavgw/o0    1502.938500\n",
      "lightmax        6569.000000\n",
      "moisture          14.169500\n",
      "dtype: float64\n",
      "-----Mode-----\n",
      "   temperature  humidity     pressure  rain  lightavgw/o0  lightmax  moisture\n",
      "0    21.052444      99.0  1009.465871   0.0     4488.9103    4000.0       0.0\n",
      "-----Standard deviation-----\n",
      "temperature         4.339762\n",
      "humidity           18.393926\n",
      "pressure           45.855978\n",
      "rain            24833.964919\n",
      "lightavgw/o0     7606.283539\n",
      "lightmax        21943.889293\n",
      "moisture           33.714314\n",
      "dtype: float64\n"
     ]
    }
   ],
   "source": [
    "columns_calculatable = [\"temperature\", \"humidity\", \"pressure\", \"rain\", \"lightavgw/o0\", \"lightmax\", \"moisture\"]\n",
    "print(\"-----Mean-----\")\n",
    "print(df_missing_replaced_by_mean[columns_calculatable].mean())\n",
    "print(\"-----Median-----\")\n",
    "print(df_missing_replaced_by_mean[columns_calculatable].median())\n",
    "print(\"-----Mode-----\")\n",
    "print(df_missing_replaced_by_mean[columns_calculatable].mode())\n",
    "print(\"-----Standard deviation-----\")\n",
    "print(df_missing_replaced_by_mean[columns_calculatable].std())"
   ]
  },
  {
   "cell_type": "code",
   "execution_count": 157,
   "metadata": {},
   "outputs": [
    {
     "name": "stdout",
     "output_type": "stream",
     "text": [
      "-----Mean-----\n",
      "temperature        21.214888\n",
      "humidity           83.479932\n",
      "pressure         1009.008774\n",
      "rain            10701.538370\n",
      "lightavgw/o0     4438.428453\n",
      "lightmax        21788.623280\n",
      "moisture           32.386053\n",
      "dtype: float64\n",
      "-----Median-----\n",
      "temperature       22.272730\n",
      "humidity          91.380950\n",
      "pressure        1014.677832\n",
      "rain              18.000000\n",
      "lightavgw/o0    1656.880000\n",
      "lightmax        6634.000000\n",
      "moisture          16.704200\n",
      "dtype: float64\n",
      "-----Mode-----\n",
      "   temperature  humidity    pressure  rain  lightavgw/o0  lightmax  moisture\n",
      "0     12.72727      99.0  789.392692   0.0     4488.9103      4000       0.0\n",
      "-----Standard deviation-----\n",
      "temperature         4.355818\n",
      "humidity           18.210065\n",
      "pressure           46.980477\n",
      "rain            24852.255288\n",
      "lightavgw/o0     7573.162806\n",
      "lightmax        22064.993089\n",
      "moisture           33.653245\n",
      "dtype: float64\n"
     ]
    }
   ],
   "source": [
    "print(\"-----Mean-----\")\n",
    "print(df_original[columns_calculatable].mean())\n",
    "print(\"-----Median-----\")\n",
    "print(df_original[columns_calculatable].median())\n",
    "print(\"-----Mode-----\")\n",
    "print(df_original[columns_calculatable].mode())\n",
    "print(\"-----Standard deviation-----\")\n",
    "print(df_original[columns_calculatable].std())"
   ]
  },
  {
   "cell_type": "markdown",
   "metadata": {},
   "source": [
    "- Calculate the root mean square error (RMSE) between the original and replaced values for each attribute. (Get original values from original file provided). Compute RMSE given by the equation at the end of the question. Plot these RMSE with respect to the attributes. "
   ]
  },
  {
   "cell_type": "code",
   "execution_count": 158,
   "metadata": {},
   "outputs": [
    {
     "name": "stdout",
     "output_type": "stream",
     "text": [
      "RMSE for data frame replaced NaN by mean of their respective column\n"
     ]
    },
    {
     "data": {
      "text/plain": [
       "defaultdict(<function __main__.def_value()>,\n",
       "            {'temperature': 0.7144187028105025,\n",
       "             'humidity': 0.8398642934872268,\n",
       "             'pressure': 4.517467372728017,\n",
       "             'rain': 864.8760413101818,\n",
       "             'lightavgw/o0': 266.7011335700478,\n",
       "             'lightmax': 315.741964846385,\n",
       "             'moisture': 3.0372627080150996})"
      ]
     },
     "execution_count": 158,
     "metadata": {},
     "output_type": "execute_result"
    }
   ],
   "source": [
    "from collections import defaultdict\n",
    "\n",
    "def def_value():\n",
    "    return 0\n",
    "rmse_by_mean = defaultdict(def_value)\n",
    "for index, value in df_missing_replaced_by_mean.iterrows():\n",
    "\tfor column in columns_calculatable:\n",
    "\t\tx_a = value[column]\n",
    "\t\tx_b = df_original.loc[index, column]\n",
    "\t\tdif_square = (x_a - x_b)**2\n",
    "\t\trmse_by_mean[column] += dif_square\n",
    "for key in rmse_by_mean.keys():\n",
    "\trmse_by_mean[key] /= len(df_missing_replaced_by_mean)\n",
    "\trmse_by_mean[key] = rmse_by_mean[key] ** (1/2)\n",
    "print(\"RMSE for data frame replaced NaN by mean of their respective column\")\n",
    "rmse_by_mean"
   ]
  },
  {
   "cell_type": "markdown",
   "metadata": {},
   "source": [
    "- Plot these RMSE with respect to the attributes. "
   ]
  },
  {
   "cell_type": "code",
   "execution_count": 159,
   "metadata": {},
   "outputs": [
    {
     "data": {
      "image/png": "[encoded data removed]",
      "text/plain": [
       "<Figure size 720x360 with 1 Axes>"
      ]
     },
     "metadata": {
      "needs_background": "light"
     },
     "output_type": "display_data"
    }
   ],
   "source": [
    "x = pd.Series(rmse_by_mean.keys())\n",
    "y = pd.Series(rmse_by_mean.values())\n",
    "plt.figure(figsize=(10, 5))\n",
    "plt.plot(x, y)\n",
    "plt.xlabel(\"Attributes\")\n",
    "plt.ylabel(\"RMSE\")\n",
    "plt.title(\"RMSE When NaN is replaced by Mean of respective column\")\n",
    "plt.show()"
   ]
  },
  {
   "cell_type": "markdown",
   "metadata": {},
   "source": [
    "- Replace the missing values in each attribute using the linear interpolation technique. Use df.interpolate() with suitable arguments."
   ]
  },
  {
   "cell_type": "code",
   "execution_count": 160,
   "metadata": {},
   "outputs": [],
   "source": [
    "df_missing_interpolate = df_missing.copy()\n",
    "df_missing_interpolate.interpolate(inplace=True, method=\"linear\")"
   ]
  },
  {
   "cell_type": "markdown",
   "metadata": {},
   "source": [
    "- Compute the mean, median, mode and standard deviation for each attributes and compare with that of the original file."
   ]
  },
  {
   "cell_type": "code",
   "execution_count": 161,
   "metadata": {},
   "outputs": [
    {
     "name": "stdout",
     "output_type": "stream",
     "text": [
      "-----Mean-----\n",
      "temperature        21.114539\n",
      "humidity           83.165602\n",
      "pressure         1009.968097\n",
      "rain            10727.959186\n",
      "lightavgw/o0     4496.753851\n",
      "lightmax        21473.799102\n",
      "moisture           32.528672\n",
      "dtype: float64\n",
      "-----Median-----\n",
      "temperature       22.139860\n",
      "humidity          91.179860\n",
      "pressure        1014.925145\n",
      "rain              15.750000\n",
      "lightavgw/o0    1500.500000\n",
      "lightmax        6569.000000\n",
      "moisture          13.894400\n",
      "dtype: float64\n",
      "-----Mode-----\n",
      "   temperature  humidity    pressure  rain  lightavgw/o0  lightmax  moisture\n",
      "0     12.72727      99.0  789.392692   0.0     4488.9103    4000.0       0.0\n",
      "-----Standard deviation-----\n",
      "temperature         4.398734\n",
      "humidity           18.408275\n",
      "pressure           45.999033\n",
      "rain            24848.714822\n",
      "lightavgw/o0     7649.457776\n",
      "lightmax        21946.160719\n",
      "moisture           33.791063\n",
      "dtype: float64\n"
     ]
    }
   ],
   "source": [
    "print(\"-----Mean-----\")\n",
    "print(df_missing_interpolate[columns_calculatable].mean())\n",
    "print(\"-----Median-----\")\n",
    "print(df_missing_interpolate[columns_calculatable].median())\n",
    "print(\"-----Mode-----\")\n",
    "print(df_missing_interpolate[columns_calculatable].mode())\n",
    "print(\"-----Standard deviation-----\")\n",
    "print(df_missing_interpolate[columns_calculatable].std())"
   ]
  },
  {
   "cell_type": "code",
   "execution_count": 162,
   "metadata": {},
   "outputs": [
    {
     "name": "stdout",
     "output_type": "stream",
     "text": [
      "-----Mean-----\n",
      "temperature        21.214888\n",
      "humidity           83.479932\n",
      "pressure         1009.008774\n",
      "rain            10701.538370\n",
      "lightavgw/o0     4438.428453\n",
      "lightmax        21788.623280\n",
      "moisture           32.386053\n",
      "dtype: float64\n",
      "-----Median-----\n",
      "temperature       22.272730\n",
      "humidity          91.380950\n",
      "pressure        1014.677832\n",
      "rain              18.000000\n",
      "lightavgw/o0    1656.880000\n",
      "lightmax        6634.000000\n",
      "moisture          16.704200\n",
      "dtype: float64\n",
      "-----Mode-----\n",
      "   temperature  humidity    pressure  rain  lightavgw/o0  lightmax  moisture\n",
      "0     12.72727      99.0  789.392692   0.0     4488.9103      4000       0.0\n",
      "-----Standard deviation-----\n",
      "temperature         4.355818\n",
      "humidity           18.210065\n",
      "pressure           46.980477\n",
      "rain            24852.255288\n",
      "lightavgw/o0     7573.162806\n",
      "lightmax        22064.993089\n",
      "moisture           33.653245\n",
      "dtype: float64\n"
     ]
    }
   ],
   "source": [
    "print(\"-----Mean-----\")\n",
    "print(df_original[columns_calculatable].mean())\n",
    "print(\"-----Median-----\")\n",
    "print(df_original[columns_calculatable].median())\n",
    "print(\"-----Mode-----\")\n",
    "print(df_original[columns_calculatable].mode())\n",
    "print(\"-----Standard deviation-----\")\n",
    "print(df_original[columns_calculatable].std())"
   ]
  },
  {
   "cell_type": "markdown",
   "metadata": {},
   "source": [
    "- Calculate the root mean square error (RMSE) between the original and replaced values for each attributes. (Get original values from the original file provided). Compute RMSE given by the equation at the end of the question"
   ]
  },
  {
   "cell_type": "code",
   "execution_count": 163,
   "metadata": {},
   "outputs": [
    {
     "name": "stdout",
     "output_type": "stream",
     "text": [
      "RMSE for data frame replaced NaN by linear interpolation: \n"
     ]
    },
    {
     "data": {
      "text/plain": [
       "defaultdict(<function __main__.def_value()>,\n",
       "            {'temperature': 0.25969769280241406,\n",
       "             'humidity': 0.7638424373996978,\n",
       "             'pressure': 1.3257821563126702,\n",
       "             'rain': 19.154315025364625,\n",
       "             'lightavgw/o0': 950.911890487612,\n",
       "             'lightmax': 0.0,\n",
       "             'moisture': 1.266179276489091})"
      ]
     },
     "execution_count": 163,
     "metadata": {},
     "output_type": "execute_result"
    }
   ],
   "source": [
    "from collections import defaultdict\n",
    "\n",
    "def def_value():\n",
    "    return 0\n",
    "rmse_by_interpolation = defaultdict(def_value)\n",
    "for index, value in df_missing_interpolate.iterrows():\n",
    "\tfor column in columns_calculatable:\n",
    "\t\tx_a = value[column]\n",
    "\t\tx_b = df_original.loc[index, column]\n",
    "\t\tdif_square = (x_a - x_b)**2\n",
    "\t\trmse_by_interpolation[column] += dif_square\n",
    "for key in rmse_by_interpolation.keys():\n",
    "\trmse_by_interpolation[key] /= len(df_missing_interpolate)\n",
    "\trmse_by_interpolation[key] = rmse_by_interpolation[key] ** (1/2)\n",
    "print(\"RMSE for data frame replaced NaN by linear interpolation: \")\n",
    "rmse_by_interpolation"
   ]
  },
  {
   "cell_type": "markdown",
   "metadata": {},
   "source": [
    "- Plot this RMSE with respect to the attributes."
   ]
  },
  {
   "cell_type": "code",
   "execution_count": 164,
   "metadata": {},
   "outputs": [
    {
     "data": {
      "image/png": "[encoded data removed]",
      "text/plain": [
       "<Figure size 720x360 with 1 Axes>"
      ]
     },
     "metadata": {
      "needs_background": "light"
     },
     "output_type": "display_data"
    }
   ],
   "source": [
    "x = pd.Series(rmse_by_interpolation.keys())\n",
    "y = pd.Series(rmse_by_interpolation.values())\n",
    "plt.figure(figsize=(10, 5))\n",
    "plt.plot(x, y)\n",
    "plt.xlabel(\"Attributes\")\n",
    "plt.ylabel(\"RMSE\")\n",
    "plt.title(\"RMSE When NaN is replaced by Interpolation\")\n",
    "plt.show()"
   ]
  },
  {
   "cell_type": "markdown",
   "metadata": {},
   "source": [
    " - After replacing the missing values by interpolation method, find and list the outliers in the attributes “temperature” and “rain”. Outliers are the values that do not satisfy the condition (Q1 – (1.5 * IQR)) < x < (Q3 + (1.5 * IQR)), where x is the value of the attribute, IQR is the interquartile range, Q1 and Q3 are the first and third quartiles."
   ]
  },
  {
   "cell_type": "code",
   "execution_count": 165,
   "metadata": {},
   "outputs": [],
   "source": [
    "\n",
    "def detect_outliers(df, columns=[]):\n",
    "\tfor column in columns:\n",
    "\t\tQ1 = np.quantile(df[column], 0.25)\n",
    "\t\tQ3 = np.quantile(df[column], 0.75)\n",
    "\t\tIQR = Q3 - Q1\n",
    "\t\tlower_range = Q1 - 1.5 * IQR\n",
    "\t\tupper_range = Q3 + 1.5 * IQR\n",
    "\t\toutliers = df[(df[column] < lower_range) | (df[column] > upper_range)]\n",
    "\t\tprint(f\"Outliers of {column}: \")\n",
    "\t\tprint(outliers.head())"
   ]
  },
  {
   "cell_type": "code",
   "execution_count": 166,
   "metadata": {},
   "outputs": [
    {
     "name": "stdout",
     "output_type": "stream",
     "text": [
      "Outliers of temperature: \n",
      "          dates stationid  temperature  humidity     pressure  rain  \\\n",
      "509  16-11-2018       t15       7.6729   67.8972  1022.555421   0.0   \n",
      "510  17-11-2018       t15       7.6729   67.8972  1020.869643   0.0   \n",
      "511  18-11-2018       t15       7.6729   67.8972  1022.956262   0.0   \n",
      "512  19-11-2018       t15       7.6729   67.8972  1026.069680   0.0   \n",
      "513  20-11-2018       t15       7.6729   67.8972  1026.240417   0.0   \n",
      "\n",
      "     lightavgw/o0  lightmax  moisture  \n",
      "509      417.0392    4000.0    8.1028  \n",
      "510      417.0392    4000.0    7.9286  \n",
      "511      417.0392    4000.0    7.9159  \n",
      "512      417.0392    4000.0    7.0560  \n",
      "513      417.0392    4000.0    7.0000  \n",
      "Outliers of rain: \n",
      "          dates stationid  temperature  humidity     pressure      rain  \\\n",
      "135  10-07-2018       t11     27.88806  75.07463   893.677537  13583.25   \n",
      "199  18-07-2018       t12     25.97674  88.37209  1008.658915  15459.75   \n",
      "200  19-07-2018       t12     27.40000  84.14815  1008.095556  14001.75   \n",
      "201  20-07-2018       t12     26.42958  90.66197  1007.472535  16571.25   \n",
      "206  25-07-2018       t12     25.29323  94.84211  1006.524060  13666.50   \n",
      "\n",
      "     lightavgw/o0  lightmax  moisture  \n",
      "135     21.111100    4000.0    1.0000  \n",
      "199   7698.844675   54612.0   11.9225  \n",
      "200   7163.855612   54612.0   10.6000  \n",
      "201   6628.866550   54612.0   17.4507  \n",
      "206   4488.910300   54612.0   10.6391  \n"
     ]
    }
   ],
   "source": [
    "detect_outliers(df_missing_interpolate, [\"temperature\", \"rain\"])"
   ]
  },
  {
   "cell_type": "markdown",
   "metadata": {},
   "source": [
    "- Obtain the boxplot for these attributes."
   ]
  },
  {
   "cell_type": "code",
   "execution_count": 167,
   "metadata": {},
   "outputs": [
    {
     "data": {
      "image/png": "[encoded data removed]",
      "text/plain": [
       "<Figure size 432x288 with 1 Axes>"
      ]
     },
     "metadata": {
      "needs_background": "light"
     },
     "output_type": "display_data"
    }
   ],
   "source": [
    "plt.title(\"Box plot of Temperature Before removing outliers\")\n",
    "plt.boxplot(df_missing_interpolate[\"temperature\"])\n",
    "plt.show()"
   ]
  },
  {
   "cell_type": "code",
   "execution_count": 168,
   "metadata": {},
   "outputs": [
    {
     "data": {
      "image/png": "[encoded data removed]",
      "text/plain": [
       "<Figure size 432x288 with 1 Axes>"
      ]
     },
     "metadata": {
      "needs_background": "light"
     },
     "output_type": "display_data"
    }
   ],
   "source": [
    "plt.title(\"Box plot of Rain Before removing outliers\")\n",
    "plt.boxplot(df_missing_interpolate[\"rain\"])\n",
    "plt.show()"
   ]
  },
  {
   "cell_type": "markdown",
   "metadata": {},
   "source": [
    "- Replace these outliers with the median of the attribute."
   ]
  },
  {
   "cell_type": "code",
   "execution_count": 169,
   "metadata": {},
   "outputs": [],
   "source": [
    "def replace_outliers(df, columns=[]):\n",
    "\tfor column in columns:\n",
    "\t\tQ1 = np.quantile(df[column], 0.25)\n",
    "\t\tQ3 = np.quantile(df[column], 0.75)\n",
    "\t\tIQR = Q3 - Q1\n",
    "\t\tlower_range = Q1 - 1.5 * IQR\n",
    "\t\tupper_range = Q3 + 1.5 * IQR\n",
    "\t\tmedian = df[column].median()\n",
    "\t\tdf[column] = np.where((df[column] > lower_range) & (df[column] < upper_range), df[column], median)"
   ]
  },
  {
   "cell_type": "code",
   "execution_count": 170,
   "metadata": {},
   "outputs": [],
   "source": [
    "replace_outliers(df_missing_interpolate, [\"temperature\", \"rain\"])"
   ]
  },
  {
   "cell_type": "markdown",
   "metadata": {},
   "source": [
    "- Plot the boxplot again and observe the difference with that of the boxplot from the previous box in (i)"
   ]
  },
  {
   "cell_type": "code",
   "execution_count": 171,
   "metadata": {},
   "outputs": [
    {
     "data": {
      "image/png": "[encoded data removed]",
      "text/plain": [
       "<Figure size 432x288 with 1 Axes>"
      ]
     },
     "metadata": {
      "needs_background": "light"
     },
     "output_type": "display_data"
    }
   ],
   "source": [
    "plt.title(\"Box plot of Temperature After removing outliers\")\n",
    "plt.boxplot(df_missing_interpolate[\"temperature\"])\n",
    "plt.show()"
   ]
  },
  {
   "cell_type": "code",
   "execution_count": 172,
   "metadata": {},
   "outputs": [
    {
     "data": {
      "image/png": "[encoded data removed]",
      "text/plain": [
       "<Figure size 432x288 with 1 Axes>"
      ]
     },
     "metadata": {
      "needs_background": "light"
     },
     "output_type": "display_data"
    }
   ],
   "source": [
    "plt.title(\"Box plot of Rain After removing outliers\")\n",
    "plt.boxplot(df_missing_interpolate[\"rain\"])\n",
    "plt.show()"
   ]
  },
  {
   "cell_type": "markdown",
   "metadata": {},
   "source": [
    "- We still get some outliers in rain column even though replacing it by the median cause may be median is more affected the by the outliers present in the column before replacing them. Like there are more outliers around the value of median."
   ]
  }
 ],
 "metadata": {
  "kernelspec": {
   "display_name": "Python 3.9.12 ('base')",
   "language": "python",
   "name": "python3"
  },
  "language_info": {
   "codemirror_mode": {
    "name": "ipython",
    "version": 3
   },
   "file_extension": ".py",
   "mimetype": "text/x-python",
   "name": "python",
   "nbconvert_exporter": "python",
   "pygments_lexer": "ipython3",
   "version": "3.9.12"
  },
  "orig_nbformat": 4,
  "vscode": {
   "interpreter": {
    "hash": "6863e040e8981097dbf29d10dc72ab85d80010d98b5512de1073715d1caccbff"
   }
  }
 },
 "nbformat": 4,
 "nbformat_minor": 2
}
