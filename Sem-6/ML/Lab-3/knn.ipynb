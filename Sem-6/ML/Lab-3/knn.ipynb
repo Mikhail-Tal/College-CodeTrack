{
 "cells": [
  {
   "cell_type": "markdown",
   "metadata": {},
   "source": [
    "# K Nearest Neighbour Classifier"
   ]
  },
  {
   "cell_type": "markdown",
   "metadata": {},
   "source": [
    "## 1. Perform the KNN on Sonar dataset with and without in-built functions for K=1, 3, 5, 7."
   ]
  },
  {
   "cell_type": "code",
   "execution_count": 1,
   "metadata": {},
   "outputs": [],
   "source": [
    "import pandas as pd\n",
    "import numpy as np\n",
    "import matplotlib.pyplot as plt\n",
    "from sklearn.neighbors import KNeighborsClassifier\n",
    "from sklearn.model_selection import cross_validate\n",
    "from sklearn.model_selection import train_test_split\n",
    "import scipy.spatial"
   ]
  },
  {
   "cell_type": "code",
   "execution_count": 2,
   "metadata": {},
   "outputs": [
    {
     "data": {
      "text/html": [
       "<div>\n",
       "<style scoped>\n",
       "    .dataframe tbody tr th:only-of-type {\n",
       "        vertical-align: middle;\n",
       "    }\n",
       "\n",
       "    .dataframe tbody tr th {\n",
       "        vertical-align: top;\n",
       "    }\n",
       "\n",
       "    .dataframe thead th {\n",
       "        text-align: right;\n",
       "    }\n",
       "</style>\n",
       "<table border=\"1\" class=\"dataframe\">\n",
       "  <thead>\n",
       "    <tr style=\"text-align: right;\">\n",
       "      <th></th>\n",
       "      <th>0</th>\n",
       "      <th>1</th>\n",
       "      <th>2</th>\n",
       "      <th>3</th>\n",
       "      <th>4</th>\n",
       "      <th>5</th>\n",
       "      <th>6</th>\n",
       "      <th>7</th>\n",
       "      <th>8</th>\n",
       "      <th>9</th>\n",
       "      <th>...</th>\n",
       "      <th>51</th>\n",
       "      <th>52</th>\n",
       "      <th>53</th>\n",
       "      <th>54</th>\n",
       "      <th>55</th>\n",
       "      <th>56</th>\n",
       "      <th>57</th>\n",
       "      <th>58</th>\n",
       "      <th>59</th>\n",
       "      <th>Result</th>\n",
       "    </tr>\n",
       "  </thead>\n",
       "  <tbody>\n",
       "    <tr>\n",
       "      <th>0</th>\n",
       "      <td>0.0200</td>\n",
       "      <td>0.0371</td>\n",
       "      <td>0.0428</td>\n",
       "      <td>0.0207</td>\n",
       "      <td>0.0954</td>\n",
       "      <td>0.0986</td>\n",
       "      <td>0.1539</td>\n",
       "      <td>0.1601</td>\n",
       "      <td>0.3109</td>\n",
       "      <td>0.2111</td>\n",
       "      <td>...</td>\n",
       "      <td>0.0027</td>\n",
       "      <td>0.0065</td>\n",
       "      <td>0.0159</td>\n",
       "      <td>0.0072</td>\n",
       "      <td>0.0167</td>\n",
       "      <td>0.0180</td>\n",
       "      <td>0.0084</td>\n",
       "      <td>0.0090</td>\n",
       "      <td>0.0032</td>\n",
       "      <td>R</td>\n",
       "    </tr>\n",
       "    <tr>\n",
       "      <th>1</th>\n",
       "      <td>0.0453</td>\n",
       "      <td>0.0523</td>\n",
       "      <td>0.0843</td>\n",
       "      <td>0.0689</td>\n",
       "      <td>0.1183</td>\n",
       "      <td>0.2583</td>\n",
       "      <td>0.2156</td>\n",
       "      <td>0.3481</td>\n",
       "      <td>0.3337</td>\n",
       "      <td>0.2872</td>\n",
       "      <td>...</td>\n",
       "      <td>0.0084</td>\n",
       "      <td>0.0089</td>\n",
       "      <td>0.0048</td>\n",
       "      <td>0.0094</td>\n",
       "      <td>0.0191</td>\n",
       "      <td>0.0140</td>\n",
       "      <td>0.0049</td>\n",
       "      <td>0.0052</td>\n",
       "      <td>0.0044</td>\n",
       "      <td>R</td>\n",
       "    </tr>\n",
       "    <tr>\n",
       "      <th>2</th>\n",
       "      <td>0.0262</td>\n",
       "      <td>0.0582</td>\n",
       "      <td>0.1099</td>\n",
       "      <td>0.1083</td>\n",
       "      <td>0.0974</td>\n",
       "      <td>0.2280</td>\n",
       "      <td>0.2431</td>\n",
       "      <td>0.3771</td>\n",
       "      <td>0.5598</td>\n",
       "      <td>0.6194</td>\n",
       "      <td>...</td>\n",
       "      <td>0.0232</td>\n",
       "      <td>0.0166</td>\n",
       "      <td>0.0095</td>\n",
       "      <td>0.0180</td>\n",
       "      <td>0.0244</td>\n",
       "      <td>0.0316</td>\n",
       "      <td>0.0164</td>\n",
       "      <td>0.0095</td>\n",
       "      <td>0.0078</td>\n",
       "      <td>R</td>\n",
       "    </tr>\n",
       "    <tr>\n",
       "      <th>3</th>\n",
       "      <td>0.0100</td>\n",
       "      <td>0.0171</td>\n",
       "      <td>0.0623</td>\n",
       "      <td>0.0205</td>\n",
       "      <td>0.0205</td>\n",
       "      <td>0.0368</td>\n",
       "      <td>0.1098</td>\n",
       "      <td>0.1276</td>\n",
       "      <td>0.0598</td>\n",
       "      <td>0.1264</td>\n",
       "      <td>...</td>\n",
       "      <td>0.0121</td>\n",
       "      <td>0.0036</td>\n",
       "      <td>0.0150</td>\n",
       "      <td>0.0085</td>\n",
       "      <td>0.0073</td>\n",
       "      <td>0.0050</td>\n",
       "      <td>0.0044</td>\n",
       "      <td>0.0040</td>\n",
       "      <td>0.0117</td>\n",
       "      <td>R</td>\n",
       "    </tr>\n",
       "    <tr>\n",
       "      <th>4</th>\n",
       "      <td>0.0762</td>\n",
       "      <td>0.0666</td>\n",
       "      <td>0.0481</td>\n",
       "      <td>0.0394</td>\n",
       "      <td>0.0590</td>\n",
       "      <td>0.0649</td>\n",
       "      <td>0.1209</td>\n",
       "      <td>0.2467</td>\n",
       "      <td>0.3564</td>\n",
       "      <td>0.4459</td>\n",
       "      <td>...</td>\n",
       "      <td>0.0031</td>\n",
       "      <td>0.0054</td>\n",
       "      <td>0.0105</td>\n",
       "      <td>0.0110</td>\n",
       "      <td>0.0015</td>\n",
       "      <td>0.0072</td>\n",
       "      <td>0.0048</td>\n",
       "      <td>0.0107</td>\n",
       "      <td>0.0094</td>\n",
       "      <td>R</td>\n",
       "    </tr>\n",
       "  </tbody>\n",
       "</table>\n",
       "<p>5 rows × 61 columns</p>\n",
       "</div>"
      ],
      "text/plain": [
       "        0       1       2       3       4       5       6       7       8  \\\n",
       "0  0.0200  0.0371  0.0428  0.0207  0.0954  0.0986  0.1539  0.1601  0.3109   \n",
       "1  0.0453  0.0523  0.0843  0.0689  0.1183  0.2583  0.2156  0.3481  0.3337   \n",
       "2  0.0262  0.0582  0.1099  0.1083  0.0974  0.2280  0.2431  0.3771  0.5598   \n",
       "3  0.0100  0.0171  0.0623  0.0205  0.0205  0.0368  0.1098  0.1276  0.0598   \n",
       "4  0.0762  0.0666  0.0481  0.0394  0.0590  0.0649  0.1209  0.2467  0.3564   \n",
       "\n",
       "        9  ...      51      52      53      54      55      56      57  \\\n",
       "0  0.2111  ...  0.0027  0.0065  0.0159  0.0072  0.0167  0.0180  0.0084   \n",
       "1  0.2872  ...  0.0084  0.0089  0.0048  0.0094  0.0191  0.0140  0.0049   \n",
       "2  0.6194  ...  0.0232  0.0166  0.0095  0.0180  0.0244  0.0316  0.0164   \n",
       "3  0.1264  ...  0.0121  0.0036  0.0150  0.0085  0.0073  0.0050  0.0044   \n",
       "4  0.4459  ...  0.0031  0.0054  0.0105  0.0110  0.0015  0.0072  0.0048   \n",
       "\n",
       "       58      59  Result  \n",
       "0  0.0090  0.0032       R  \n",
       "1  0.0052  0.0044       R  \n",
       "2  0.0095  0.0078       R  \n",
       "3  0.0040  0.0117       R  \n",
       "4  0.0107  0.0094       R  \n",
       "\n",
       "[5 rows x 61 columns]"
      ]
     },
     "execution_count": 2,
     "metadata": {},
     "output_type": "execute_result"
    }
   ],
   "source": [
    "df = pd.read_csv(\"Data/sonar.csv\")\n",
    "df.head(5)"
   ]
  },
  {
   "cell_type": "code",
   "execution_count": 3,
   "metadata": {},
   "outputs": [],
   "source": [
    "X = df[[column for column in df.columns if column != \"Result\"]]\n",
    "y = df[\"Result\"]\n",
    "X_train, X_test, y_train, y_test = train_test_split(X, y, random_state=20, test_size=0.2, shuffle=True)"
   ]
  },
  {
   "cell_type": "markdown",
   "metadata": {},
   "source": [
    "### Using Built In functions"
   ]
  },
  {
   "cell_type": "code",
   "execution_count": 4,
   "metadata": {},
   "outputs": [
    {
     "name": "stdout",
     "output_type": "stream",
     "text": [
      "Test results for when K = 1:  0.4612836438923395\n",
      "Test results for when K = 3:  0.48530020703933746\n",
      "Test results for when K = 5:  0.4759144237405107\n",
      "Test results for when K = 7:  0.45659075224292617\n"
     ]
    }
   ],
   "source": [
    "clf_1 = KNeighborsClassifier(n_neighbors=1, weights=\"distance\")\n",
    "clf_3 = KNeighborsClassifier(n_neighbors=3, weights=\"distance\")\n",
    "clf_5 = KNeighborsClassifier(n_neighbors=5, weights=\"distance\")\n",
    "clf_7 = KNeighborsClassifier(n_neighbors=7, weights=\"distance\")\n",
    "cv_results = cross_validate(clf_1, X, y, cv=3)\n",
    "print(\"Test results for when K = 1: \", cv_results[\"test_score\"].mean())\n",
    "cv_results = cross_validate(clf_3, X, y, cv=3)\n",
    "print(\"Test results for when K = 3: \", cv_results[\"test_score\"].mean())\n",
    "cv_results = cross_validate(clf_5, X, y, cv=3)\n",
    "print(\"Test results for when K = 5: \", cv_results[\"test_score\"].mean())\n",
    "cv_results = cross_validate(clf_7, X, y, cv=3)\n",
    "print(\"Test results for when K = 7: \", cv_results[\"test_score\"].mean())"
   ]
  },
  {
   "cell_type": "markdown",
   "metadata": {},
   "source": [
    "### Without using built in functions"
   ]
  },
  {
   "cell_type": "code",
   "execution_count": 5,
   "metadata": {},
   "outputs": [],
   "source": [
    "class KNN:\n",
    "    def __init__(self, k):\n",
    "        self.k = k\n",
    "        \n",
    "    def fit(self, X, y):\n",
    "        self.X_train = X\n",
    "        self.y_train = y\n",
    "        \n",
    "    def distance(self, X1, X2):\n",
    "        distance = scipy.spatial.distance.euclidean(X1, X2)\n",
    "    \n",
    "    def predict(self, X_test):\n",
    "        final_output = []\n",
    "        for i in range(len(X_test)):\n",
    "            d = []\n",
    "            outputs = []\n",
    "            for j in range(len(X_train)):\n",
    "                dist = scipy.spatial.distance.euclidean(X_train.iloc[j] , X_test.iloc[i])\n",
    "                d.append([dist, j])\n",
    "            d.sort()\n",
    "            d = d[0:self.k]\n",
    "            for d, j in d:\n",
    "                outputs.append(y_train.iloc[j])\n",
    "            results = []\n",
    "            ans = max(set(outputs), key = outputs.count)\n",
    "            final_output.append(ans)\n",
    "            \n",
    "        return final_output\n",
    "    \n",
    "    def score(self, X_test, y_test):\n",
    "        predictions = self.predict(X_test)\n",
    "        return (predictions == y_test).sum() / len(y_test)"
   ]
  },
  {
   "cell_type": "code",
   "execution_count": 6,
   "metadata": {},
   "outputs": [
    {
     "name": "stdout",
     "output_type": "stream",
     "text": [
      "Accuracy score when K = 1:  0.7857142857142857\n",
      "Accuracy score when K = 3:  0.7857142857142857\n",
      "Accuracy score when K = 5:  0.7142857142857143\n",
      "Accuracy score when K = 7:  0.6666666666666666\n"
     ]
    }
   ],
   "source": [
    "clf_1 = KNN(1)\n",
    "clf_1.fit(X_train, y_train)\n",
    "print(\"Accuracy score when K = 1: \", clf_1.score(X_test, y_test))\n",
    "clf_3 = KNN(3)\n",
    "clf_3.fit(X_train, y_train)\n",
    "print(\"Accuracy score when K = 3: \", clf_3.score(X_test, y_test))\n",
    "clf_5 = KNN(5)\n",
    "clf_5.fit(X_train, y_train)\n",
    "print(\"Accuracy score when K = 5: \", clf_5.score(X_test, y_test))\n",
    "clf_7 = KNN(7)\n",
    "clf_7.fit(X_train, y_train)\n",
    "print(\"Accuracy score when K = 7: \", clf_7.score(X_test, y_test))"
   ]
  },
  {
   "cell_type": "markdown",
   "metadata": {},
   "source": [
    "## 2. Break the 60 features into 6 subsets having 10 features each. Perform the KNN and then compare the performance."
   ]
  },
  {
   "cell_type": "code",
   "execution_count": 7,
   "metadata": {},
   "outputs": [
    {
     "data": {
      "text/html": [
       "<div>\n",
       "<style scoped>\n",
       "    .dataframe tbody tr th:only-of-type {\n",
       "        vertical-align: middle;\n",
       "    }\n",
       "\n",
       "    .dataframe tbody tr th {\n",
       "        vertical-align: top;\n",
       "    }\n",
       "\n",
       "    .dataframe thead th {\n",
       "        text-align: right;\n",
       "    }\n",
       "</style>\n",
       "<table border=\"1\" class=\"dataframe\">\n",
       "  <thead>\n",
       "    <tr style=\"text-align: right;\">\n",
       "      <th></th>\n",
       "      <th>0</th>\n",
       "      <th>1</th>\n",
       "      <th>2</th>\n",
       "      <th>3</th>\n",
       "      <th>4</th>\n",
       "      <th>5</th>\n",
       "    </tr>\n",
       "  </thead>\n",
       "  <tbody>\n",
       "    <tr>\n",
       "      <th>0</th>\n",
       "      <td>1.1506</td>\n",
       "      <td>2.4981</td>\n",
       "      <td>5.9690</td>\n",
       "      <td>5.4099</td>\n",
       "      <td>1.7553</td>\n",
       "      <td>0.1108</td>\n",
       "    </tr>\n",
       "    <tr>\n",
       "      <th>1</th>\n",
       "      <td>1.8120</td>\n",
       "      <td>7.7810</td>\n",
       "      <td>3.6074</td>\n",
       "      <td>2.5250</td>\n",
       "      <td>0.7852</td>\n",
       "      <td>0.0916</td>\n",
       "    </tr>\n",
       "    <tr>\n",
       "      <th>2</th>\n",
       "      <td>2.4274</td>\n",
       "      <td>6.9525</td>\n",
       "      <td>5.8549</td>\n",
       "      <td>4.8369</td>\n",
       "      <td>1.6200</td>\n",
       "      <td>0.1603</td>\n",
       "    </tr>\n",
       "    <tr>\n",
       "      <th>3</th>\n",
       "      <td>0.5908</td>\n",
       "      <td>2.0185</td>\n",
       "      <td>3.8732</td>\n",
       "      <td>6.3428</td>\n",
       "      <td>3.0694</td>\n",
       "      <td>0.0957</td>\n",
       "    </tr>\n",
       "    <tr>\n",
       "      <th>4</th>\n",
       "      <td>1.5241</td>\n",
       "      <td>4.6516</td>\n",
       "      <td>5.3996</td>\n",
       "      <td>3.3635</td>\n",
       "      <td>0.9049</td>\n",
       "      <td>0.0792</td>\n",
       "    </tr>\n",
       "  </tbody>\n",
       "</table>\n",
       "</div>"
      ],
      "text/plain": [
       "        0       1       2       3       4       5\n",
       "0  1.1506  2.4981  5.9690  5.4099  1.7553  0.1108\n",
       "1  1.8120  7.7810  3.6074  2.5250  0.7852  0.0916\n",
       "2  2.4274  6.9525  5.8549  4.8369  1.6200  0.1603\n",
       "3  0.5908  2.0185  3.8732  6.3428  3.0694  0.0957\n",
       "4  1.5241  4.6516  5.3996  3.3635  0.9049  0.0792"
      ]
     },
     "execution_count": 7,
     "metadata": {},
     "output_type": "execute_result"
    }
   ],
   "source": [
    "x1 = X[\"0\"] + X[\"1\"] + X[\"2\"] + X[\"3\"] + X[\"4\"] + X[\"5\"] + X[\"6\"] + X[\"7\"] + X[\"8\"] + X[\"9\"]\n",
    "x2 = X[\"10\"] + X[\"11\"] + X[\"12\"] + X[\"13\"] + X[\"14\"] + X[\"15\"] + X[\"16\"] + X[\"17\"] + X[\"18\"] + X[\"19\"]\n",
    "x3 = X[\"20\"] + X[\"21\"] + X[\"22\"] + X[\"23\"] + X[\"24\"] + X[\"25\"] + X[\"26\"] + X[\"27\"] + X[\"28\"] + X[\"29\"]\n",
    "x4 = X[\"30\"] + X[\"31\"] + X[\"32\"] + X[\"33\"] + X[\"34\"] + X[\"35\"] + X[\"36\"] + X[\"37\"] + X[\"38\"] + X[\"39\"]\n",
    "x5 = X[\"40\"] + X[\"41\"] + X[\"42\"] + X[\"43\"] + X[\"44\"] + X[\"45\"] + X[\"46\"] + X[\"47\"] + X[\"48\"] + X[\"49\"]\n",
    "x6 = X[\"50\"] + X[\"51\"] + X[\"52\"] + X[\"53\"] + X[\"54\"] + X[\"55\"] + X[\"56\"] + X[\"57\"] + X[\"58\"] + X[\"59\"]\n",
    "X_new = np.array([x1, x2, x3, x4, x5, x6]).T\n",
    "X_new = pd.DataFrame(X_new)\n",
    "X_new.head()"
   ]
  },
  {
   "cell_type": "code",
   "execution_count": 8,
   "metadata": {},
   "outputs": [
    {
     "name": "stdout",
     "output_type": "stream",
     "text": [
      "Test results for when K = 1:  0.485576259489303\n",
      "Test results for when K = 3:  0.4761214630779848\n",
      "Test results for when K = 5:  0.45721187025534854\n",
      "Test results for when K = 7:  0.45231193926846097\n"
     ]
    }
   ],
   "source": [
    "clf_1 = KNeighborsClassifier(n_neighbors=1, weights=\"distance\")\n",
    "clf_3 = KNeighborsClassifier(n_neighbors=3, weights=\"distance\")\n",
    "clf_5 = KNeighborsClassifier(n_neighbors=5, weights=\"distance\")\n",
    "clf_7 = KNeighborsClassifier(n_neighbors=7, weights=\"distance\")\n",
    "cv_results = cross_validate(clf_1, X_new, y, cv=3)\n",
    "print(\"Test results for when K = 1: \", cv_results[\"test_score\"].mean())\n",
    "cv_results = cross_validate(clf_3, X_new, y, cv=3)\n",
    "print(\"Test results for when K = 3: \", cv_results[\"test_score\"].mean())\n",
    "cv_results = cross_validate(clf_5, X_new, y, cv=3)\n",
    "print(\"Test results for when K = 5: \", cv_results[\"test_score\"].mean())\n",
    "cv_results = cross_validate(clf_7, X_new, y, cv=3)\n",
    "print(\"Test results for when K = 7: \", cv_results[\"test_score\"].mean())"
   ]
  },
  {
   "cell_type": "markdown",
   "metadata": {},
   "source": [
    "> **Comparison**\n",
    "\n",
    "By adding consecutive 10 features each into a new feature, increased accuracy in some cases and also decreased in some cases so we can say that sometimes it maybe useful sometimes it will bias the values."
   ]
  },
  {
   "cell_type": "markdown",
   "metadata": {},
   "source": [
    "## 3. Divide them into 6 subsets and perform the classification on each subset. Then perform the majority voting for classification."
   ]
  },
  {
   "cell_type": "code",
   "execution_count": 9,
   "metadata": {},
   "outputs": [
    {
     "name": "stdout",
     "output_type": "stream",
     "text": [
      "Test results for when K = 1 and for feature 1 :  0.6008971704623879\n",
      "Test results for when K = 1 and for feature 2 :  0.4954451345755693\n",
      "Test results for when K = 1 and for feature 3 :  0.4707384403036577\n",
      "Test results for when K = 1 and for feature 4 :  0.4562456866804692\n",
      "Test results for when K = 1 and for feature 5 :  0.5049689440993789\n",
      "Test results for when K = 1 and for feature 6 :  0.45224292615596956\n",
      "Majority voting is given for feature: 1, and score is: 0.6008971704623879\n",
      "Test results for when K = 3 and for feature 1 :  0.6345065562456867\n",
      "Test results for when K = 3 and for feature 2 :  0.49558316080055215\n",
      "Test results for when K = 3 and for feature 3 :  0.4707384403036577\n",
      "Test results for when K = 3 and for feature 4 :  0.4612836438923395\n",
      "Test results for when K = 3 and for feature 5 :  0.5193926846100759\n",
      "Test results for when K = 3 and for feature 6 :  0.456935817805383\n",
      "Majority voting is given for feature: 1, and score is: 0.6345065562456867\n",
      "Test results for when K = 5 and for feature 1 :  0.6393374741200828\n",
      "Test results for when K = 5 and for feature 2 :  0.48122843340234644\n",
      "Test results for when K = 5 and for feature 3 :  0.45638371290545204\n",
      "Test results for when K = 5 and for feature 4 :  0.4611456176673568\n",
      "Test results for when K = 5 and for feature 5 :  0.5385093167701864\n",
      "Test results for when K = 5 and for feature 6 :  0.4570048309178744\n",
      "Majority voting is given for feature: 1, and score is: 0.6393374741200828\n",
      "Test results for when K = 7 and for feature 1 :  0.653968253968254\n",
      "Test results for when K = 7 and for feature 2 :  0.49082125603864735\n",
      "Test results for when K = 7 and for feature 3 :  0.4706694271911663\n",
      "Test results for when K = 7 and for feature 4 :  0.4854382332643203\n",
      "Test results for when K = 7 and for feature 5 :  0.5432712215320912\n",
      "Test results for when K = 7 and for feature 6 :  0.47632850241545893\n",
      "Majority voting is given for feature: 1, and score is: 0.653968253968254\n"
     ]
    }
   ],
   "source": [
    "feature_sets = [x1, x2, x3, x4, x5, x6]\n",
    "for i in range(8):\n",
    "    if(i%2!=0):\n",
    "        comps = []\n",
    "        for index, feature_set in enumerate(feature_sets):\n",
    "            clf = KNeighborsClassifier(n_neighbors=i, weights=\"distance\")\n",
    "            cv_results = cross_validate(clf, pd.DataFrame(feature_set), y, cv=3)\n",
    "            score = cv_results[\"test_score\"].mean()\n",
    "            print(f\"Test results for when K = {i} and for feature {index + 1} : \", score)\n",
    "            comps.append([index, score])\n",
    "        maxima = max(comps, key = lambda x: x[1])\n",
    "        print(f\"Majority voting is given for feature: {maxima[0] + 1}, and score is: {maxima[1]}\")"
   ]
  },
  {
   "cell_type": "markdown",
   "metadata": {},
   "source": [
    "## 4.  Also, perform the same tasks for 5 subsets."
   ]
  },
  {
   "cell_type": "code",
   "execution_count": 10,
   "metadata": {},
   "outputs": [
    {
     "data": {
      "text/html": [
       "<div>\n",
       "<style scoped>\n",
       "    .dataframe tbody tr th:only-of-type {\n",
       "        vertical-align: middle;\n",
       "    }\n",
       "\n",
       "    .dataframe tbody tr th {\n",
       "        vertical-align: top;\n",
       "    }\n",
       "\n",
       "    .dataframe thead th {\n",
       "        text-align: right;\n",
       "    }\n",
       "</style>\n",
       "<table border=\"1\" class=\"dataframe\">\n",
       "  <thead>\n",
       "    <tr style=\"text-align: right;\">\n",
       "      <th></th>\n",
       "      <th>0</th>\n",
       "      <th>1</th>\n",
       "      <th>2</th>\n",
       "      <th>3</th>\n",
       "      <th>4</th>\n",
       "    </tr>\n",
       "  </thead>\n",
       "  <tbody>\n",
       "    <tr>\n",
       "      <th>0</th>\n",
       "      <td>1.4697</td>\n",
       "      <td>4.2522</td>\n",
       "      <td>7.2581</td>\n",
       "      <td>3.7322</td>\n",
       "      <td>0.1815</td>\n",
       "    </tr>\n",
       "    <tr>\n",
       "      <th>1</th>\n",
       "      <td>2.9590</td>\n",
       "      <td>8.3475</td>\n",
       "      <td>3.5487</td>\n",
       "      <td>1.6084</td>\n",
       "      <td>0.1386</td>\n",
       "    </tr>\n",
       "    <tr>\n",
       "      <th>2</th>\n",
       "      <td>3.7667</td>\n",
       "      <td>7.8784</td>\n",
       "      <td>6.1300</td>\n",
       "      <td>3.8930</td>\n",
       "      <td>0.1839</td>\n",
       "    </tr>\n",
       "    <tr>\n",
       "      <th>3</th>\n",
       "      <td>0.8781</td>\n",
       "      <td>3.4145</td>\n",
       "      <td>5.2081</td>\n",
       "      <td>6.2965</td>\n",
       "      <td>0.1932</td>\n",
       "    </tr>\n",
       "    <tr>\n",
       "      <th>4</th>\n",
       "      <td>2.3345</td>\n",
       "      <td>5.7981</td>\n",
       "      <td>5.4983</td>\n",
       "      <td>2.1852</td>\n",
       "      <td>0.1068</td>\n",
       "    </tr>\n",
       "  </tbody>\n",
       "</table>\n",
       "</div>"
      ],
      "text/plain": [
       "        0       1       2       3       4\n",
       "0  1.4697  4.2522  7.2581  3.7322  0.1815\n",
       "1  2.9590  8.3475  3.5487  1.6084  0.1386\n",
       "2  3.7667  7.8784  6.1300  3.8930  0.1839\n",
       "3  0.8781  3.4145  5.2081  6.2965  0.1932\n",
       "4  2.3345  5.7981  5.4983  2.1852  0.1068"
      ]
     },
     "execution_count": 10,
     "metadata": {},
     "output_type": "execute_result"
    }
   ],
   "source": [
    "x1 = X[\"0\"] + X[\"1\"] + X[\"2\"] + X[\"3\"] + X[\"4\"] + X[\"5\"] + X[\"6\"] + X[\"7\"] + X[\"8\"] + X[\"9\"] + X[\"10\"] + X[\"11\"]\n",
    "x2 = X[\"12\"] + X[\"13\"] + X[\"14\"] + X[\"15\"] + X[\"16\"] + X[\"17\"] + X[\"18\"] + X[\"19\"] + X[\"20\"] + X[\"21\"] + X[\"22\"] + X[\"23\"]\n",
    "x3 = X[\"24\"] + X[\"25\"] + X[\"26\"] + X[\"27\"] + X[\"28\"] + X[\"29\"] + X[\"30\"] + X[\"31\"] + X[\"32\"] + X[\"33\"] + X[\"34\"] + X[\"35\"]\n",
    "x4 = X[\"36\"] + X[\"37\"] + X[\"38\"] + X[\"39\"] + X[\"40\"] + X[\"41\"] + X[\"42\"] + X[\"43\"] + X[\"44\"] + X[\"45\"] + X[\"46\"] + X[\"47\"]\n",
    "x5 = X[\"48\"] + X[\"49\"] + X[\"50\"] + X[\"51\"] + X[\"52\"] + X[\"53\"] + X[\"54\"] + X[\"55\"] + X[\"56\"] + X[\"57\"] + X[\"58\"] + X[\"59\"]\n",
    "X_new = np.array([x1, x2, x3, x4, x5]).T\n",
    "X_new = pd.DataFrame(X_new)\n",
    "X_new.head()"
   ]
  },
  {
   "cell_type": "markdown",
   "metadata": {},
   "source": [
    "> **KNN and Comparison**"
   ]
  },
  {
   "cell_type": "code",
   "execution_count": 11,
   "metadata": {},
   "outputs": [
    {
     "name": "stdout",
     "output_type": "stream",
     "text": [
      "Test results for when K = 1:  0.39420289855072466\n",
      "Test results for when K = 3:  0.39910282953761217\n",
      "Test results for when K = 5:  0.394271911663216\n",
      "Test results for when K = 7:  0.3800552104899931\n"
     ]
    }
   ],
   "source": [
    "clf_1 = KNeighborsClassifier(n_neighbors=1, weights=\"distance\")\n",
    "clf_3 = KNeighborsClassifier(n_neighbors=3, weights=\"distance\")\n",
    "clf_5 = KNeighborsClassifier(n_neighbors=5, weights=\"distance\")\n",
    "clf_7 = KNeighborsClassifier(n_neighbors=7, weights=\"distance\")\n",
    "cv_results = cross_validate(clf_1, X_new, y, cv=3)\n",
    "print(\"Test results for when K = 1: \", cv_results[\"test_score\"].mean())\n",
    "cv_results = cross_validate(clf_3, X_new, y, cv=3)\n",
    "print(\"Test results for when K = 3: \", cv_results[\"test_score\"].mean())\n",
    "cv_results = cross_validate(clf_5, X_new, y, cv=3)\n",
    "print(\"Test results for when K = 5: \", cv_results[\"test_score\"].mean())\n",
    "cv_results = cross_validate(clf_7, X_new, y, cv=3)\n",
    "print(\"Test results for when K = 7: \", cv_results[\"test_score\"].mean())"
   ]
  },
  {
   "cell_type": "markdown",
   "metadata": {},
   "source": [
    "> **Comparison**\n",
    "\n",
    "By adding consecutive 12 features each into a new feature and forming 5 subsets, accuracy score is decreased when compared to 10 features and 6 subsets."
   ]
  },
  {
   "cell_type": "markdown",
   "metadata": {},
   "source": [
    "> **Majority voting for classification**"
   ]
  },
  {
   "cell_type": "code",
   "execution_count": 12,
   "metadata": {},
   "outputs": [
    {
     "name": "stdout",
     "output_type": "stream",
     "text": [
      "Test results for when K = 1 and for feature 1 :  0.6253968253968254\n",
      "Test results for when K = 1 and for feature 2 :  0.3510006901311249\n",
      "Test results for when K = 1 and for feature 3 :  0.5336093857832989\n",
      "Test results for when K = 1 and for feature 4 :  0.4810904071773637\n",
      "Test results for when K = 1 and for feature 5 :  0.5429261559696342\n",
      "Majority voting is given for feature: 1, and score is: 0.6253968253968254\n",
      "Test results for when K = 3 and for feature 1 :  0.6398895790200138\n",
      "Test results for when K = 3 and for feature 2 :  0.37991718426501037\n",
      "Test results for when K = 3 and for feature 3 :  0.5674258109040718\n",
      "Test results for when K = 3 and for feature 4 :  0.48102139406487227\n",
      "Test results for when K = 3 and for feature 5 :  0.5574189095928227\n",
      "Majority voting is given for feature: 1, and score is: 0.6398895790200138\n",
      "Test results for when K = 5 and for feature 1 :  0.6447895100069013\n",
      "Test results for when K = 5 and for feature 2 :  0.3751552795031056\n",
      "Test results for when K = 5 and for feature 3 :  0.5625948930296756\n",
      "Test results for when K = 5 and for feature 4 :  0.44734299516908216\n",
      "Test results for when K = 5 and for feature 5 :  0.5864044168391995\n",
      "Majority voting is given for feature: 1, and score is: 0.6447895100069013\n",
      "Test results for when K = 7 and for feature 1 :  0.6496204278812975\n",
      "Test results for when K = 7 and for feature 2 :  0.3655624568668047\n",
      "Test results for when K = 7 and for feature 3 :  0.5479641131815045\n",
      "Test results for when K = 7 and for feature 4 :  0.4665976535541753\n",
      "Test results for when K = 7 and for feature 5 :  0.591304347826087\n",
      "Majority voting is given for feature: 1, and score is: 0.6496204278812975\n"
     ]
    }
   ],
   "source": [
    "feature_sets = [x1, x2, x3, x4, x5]\n",
    "for i in range(8):\n",
    "    if(i%2!=0):\n",
    "        comps = []\n",
    "        for index, feature_set in enumerate(feature_sets):\n",
    "            clf = KNeighborsClassifier(n_neighbors=i, weights=\"distance\")\n",
    "            cv_results = cross_validate(clf, pd.DataFrame(feature_set), y, cv=3)\n",
    "            score = cv_results[\"test_score\"].mean()\n",
    "            print(f\"Test results for when K = {i} and for feature {index + 1} : \", score)\n",
    "            comps.append([index, score])\n",
    "        maxima = max(comps, key = lambda x: x[1])\n",
    "        print(f\"Majority voting is given for feature: {maxima[0] + 1}, and score is: {maxima[1]}\")"
   ]
  },
  {
   "cell_type": "code",
   "execution_count": null,
   "metadata": {},
   "outputs": [],
   "source": []
  }
 ],
 "metadata": {
  "kernelspec": {
   "display_name": "Python 3 (ipykernel)",
   "language": "python",
   "name": "python3"
  },
  "language_info": {
   "codemirror_mode": {
    "name": "ipython",
    "version": 3
   },
   "file_extension": ".py",
   "mimetype": "text/x-python",
   "name": "python",
   "nbconvert_exporter": "python",
   "pygments_lexer": "ipython3",
   "version": "3.9.12"
  }
 },
 "nbformat": 4,
 "nbformat_minor": 2
}
