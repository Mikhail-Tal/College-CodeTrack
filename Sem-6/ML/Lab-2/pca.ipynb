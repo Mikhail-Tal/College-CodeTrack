{
 "cells": [
  {
   "cell_type": "markdown",
   "metadata": {},
   "source": [
    "# Principal Component Analysis"
   ]
  },
  {
   "cell_type": "code",
   "execution_count": 1,
   "metadata": {},
   "outputs": [],
   "source": [
    "import numpy as np\n",
    "import pandas as pd\n",
    "import matplotlib.pyplot as plt"
   ]
  },
  {
   "cell_type": "markdown",
   "metadata": {},
   "source": [
    "Consider the following 30 examples, 15 from each class, blue and yellow. ![img](Data/img.jpg)"
   ]
  },
  {
   "cell_type": "markdown",
   "metadata": {},
   "source": [
    "First let us convert the given data to a dataframe and store it in csv file."
   ]
  },
  {
   "cell_type": "code",
   "execution_count": 2,
   "metadata": {},
   "outputs": [
    {
     "data": {
      "text/html": [
       "<div>\n",
       "<style scoped>\n",
       "    .dataframe tbody tr th:only-of-type {\n",
       "        vertical-align: middle;\n",
       "    }\n",
       "\n",
       "    .dataframe tbody tr th {\n",
       "        vertical-align: top;\n",
       "    }\n",
       "\n",
       "    .dataframe thead th {\n",
       "        text-align: right;\n",
       "    }\n",
       "</style>\n",
       "<table border=\"1\" class=\"dataframe\">\n",
       "  <thead>\n",
       "    <tr style=\"text-align: right;\">\n",
       "      <th></th>\n",
       "      <th>0</th>\n",
       "      <th>1</th>\n",
       "      <th>2</th>\n",
       "      <th>3</th>\n",
       "    </tr>\n",
       "  </thead>\n",
       "  <tbody>\n",
       "    <tr>\n",
       "      <th>0</th>\n",
       "      <td>77.60</td>\n",
       "      <td>136.0</td>\n",
       "      <td>9.65</td>\n",
       "      <td>12.6</td>\n",
       "    </tr>\n",
       "    <tr>\n",
       "      <th>1</th>\n",
       "      <td>83.45</td>\n",
       "      <td>177.0</td>\n",
       "      <td>9.76</td>\n",
       "      <td>13.1</td>\n",
       "    </tr>\n",
       "    <tr>\n",
       "      <th>2</th>\n",
       "      <td>76.20</td>\n",
       "      <td>164.0</td>\n",
       "      <td>10.52</td>\n",
       "      <td>13.9</td>\n",
       "    </tr>\n",
       "    <tr>\n",
       "      <th>3</th>\n",
       "      <td>80.30</td>\n",
       "      <td>185.0</td>\n",
       "      <td>9.76</td>\n",
       "      <td>12.5</td>\n",
       "    </tr>\n",
       "    <tr>\n",
       "      <th>4</th>\n",
       "      <td>82.30</td>\n",
       "      <td>187.0</td>\n",
       "      <td>9.77</td>\n",
       "      <td>13.4</td>\n",
       "    </tr>\n",
       "  </tbody>\n",
       "</table>\n",
       "</div>"
      ],
      "text/plain": [
       "       0      1      2     3\n",
       "0  77.60  136.0   9.65  12.6\n",
       "1  83.45  177.0   9.76  13.1\n",
       "2  76.20  164.0  10.52  13.9\n",
       "3  80.30  185.0   9.76  12.5\n",
       "4  82.30  187.0   9.77  13.4"
      ]
     },
     "execution_count": 2,
     "metadata": {},
     "output_type": "execute_result"
    }
   ],
   "source": [
    "df = np.array([\n",
    "    [77.60, 136, 9.65, 12.60],\n",
    "    [83.45, 177, 9.76, 13.10],\n",
    "    [76.20, 164, 10.52, 13.90],\n",
    "    [80.30, 185, 9.76, 12.50],\n",
    "    [82.30, 187, 9.77, 13.40],\n",
    "    [86.00, 171, 9.25, 13.00],\n",
    "    [90.50, 211, 9.75, 12.90],\n",
    "    [81.50, 158, 10.38, 13.60],\n",
    "    [79.75, 176, 9.31, 12.00],\n",
    "    [86.85, 175, 10.23, 14.20],\n",
    "    [72.90, 139, 10.29, 12.90],\n",
    "    [73.50, 124, 9.68, 12.00],\n",
    "    [86.85, 149, 10.33, 13.50],\n",
    "    [89.15, 224, 9.70, 13.00],\n",
    "    [78.05, 149, 9.63, 12.60],\n",
    "    [65.55, 166, 9.29, 11.30],\n",
    "    [67.10, 132, 9.52, 11.70],\n",
    "    [66.25, 173, 9.88, 12.10],\n",
    "    [80.45, 155, 11.19, 13.80],\n",
    "    [78.30, 202, 10.78, 13.30],\n",
    "    [77.80, 155, 10.86, 14.00],\n",
    "    [79.20, 161, 10.68, 14.30],\n",
    "    [82.65, 158, 10.64, 12.20],\n",
    "    [79.85, 156, 10.83, 13.70],\n",
    "    [67.30, 157, 9.78, 11.80],\n",
    "    [70.65, 173, 9.97, 12.20],\n",
    "    [67.15, 159, 9.99, 12.30],\n",
    "    [80.85, 160, 10.47, 12.70],\n",
    "    [81.80, 162, 10.87, 13.90],\n",
    "    [81.15, 178, 11.07, 13.80],\n",
    "])\n",
    "dataframe = pd.DataFrame(df)\n",
    "dataframe.to_csv(\"Data/data.csv\")\n",
    "dataframe.head(5)"
   ]
  },
  {
   "cell_type": "markdown",
   "metadata": {},
   "source": [
    "### A. Perform Principle Component Analysis (PCA) for the above data and generate Eigen vectors."
   ]
  },
  {
   "cell_type": "code",
   "execution_count": 3,
   "metadata": {},
   "outputs": [
    {
     "data": {
      "text/plain": [
       "array([ 78.365     , 165.73333333,  10.12766667,  12.94333333])"
      ]
     },
     "execution_count": 3,
     "metadata": {},
     "output_type": "execute_result"
    }
   ],
   "source": [
    "df_mean = np.mean(df, 0)\n",
    "df_mean"
   ]
  },
  {
   "cell_type": "code",
   "execution_count": 4,
   "metadata": {},
   "outputs": [
    {
     "data": {
      "text/plain": [
       "array([[ 4.75479569e+01,  7.05248276e+01,  7.58398276e-01,\n",
       "         3.36915517e+00],\n",
       "       [ 7.05248276e+01,  4.77995402e+02, -7.91678161e-01,\n",
       "         2.89471264e+00],\n",
       "       [ 7.58398276e-01, -7.91678161e-01,  3.15128851e-01,\n",
       "         3.23552874e-01],\n",
       "       [ 3.36915517e+00,  2.89471264e+00,  3.23552874e-01,\n",
       "         6.74954023e-01]])"
      ]
     },
     "execution_count": 4,
     "metadata": {},
     "output_type": "execute_result"
    }
   ],
   "source": [
    "df_cov = np.cov(df.T)\n",
    "df_cov"
   ]
  },
  {
   "cell_type": "code",
   "execution_count": 5,
   "metadata": {},
   "outputs": [
    {
     "name": "stdout",
     "output_type": "stream",
     "text": [
      "Eigen Values:  [4.89280087e+02 3.65396440e+01 6.22203694e-01 9.15073250e-02]\n",
      "Eigen Vectors:  [[ 1.57703890e-01  9.83940357e-01 -7.79869693e-02 -3.01477895e-02]\n",
      " [ 9.87461161e-01 -1.57669244e-01  7.78021664e-03 -5.77866853e-04]\n",
      " [-1.34959505e-03  2.47595703e-02  6.14484812e-01 -7.88538876e-01]\n",
      " [ 6.93670265e-03  7.99296361e-02  7.85026061e-01  6.14245243e-01]]\n"
     ]
    }
   ],
   "source": [
    "eig_val, eig_vec = np.linalg.eig(df_cov)\n",
    "print(\"Eigen Values: \", eig_val)\n",
    "print(\"Eigen Vectors: \", eig_vec)"
   ]
  },
  {
   "cell_type": "markdown",
   "metadata": {},
   "source": [
    "### B. Generate Two dimensional and Three dimensional representation of the data."
   ]
  },
  {
   "cell_type": "markdown",
   "metadata": {},
   "source": [
    "> **Two dimensional representation of given data**"
   ]
  },
  {
   "cell_type": "markdown",
   "metadata": {},
   "source": [
    "For two dimensional representation consider two eigen vectors generated using highest 2 eigen values. Since eigen are sorted from higher to lower, lets consider first two eigen vectors."
   ]
  },
  {
   "cell_type": "code",
   "execution_count": 6,
   "metadata": {},
   "outputs": [
    {
     "data": {
      "text/plain": [
       "array([[ 0.15770389,  0.98746116, -0.0013496 ,  0.0069367 ],\n",
       "       [ 0.98394036, -0.15766924,  0.02475957,  0.07992964]])"
      ]
     },
     "execution_count": 6,
     "metadata": {},
     "output_type": "execute_result"
    }
   ],
   "source": [
    "A = np.array([eig_vec[:, 0], eig_vec[:, 1]])\n",
    "A"
   ]
  },
  {
   "cell_type": "markdown",
   "metadata": {},
   "source": [
    "Now apply transformation to obtain new values in 2 dimensional representaion."
   ]
  },
  {
   "cell_type": "code",
   "execution_count": 7,
   "metadata": {},
   "outputs": [],
   "source": [
    "df_2D = np.matmul(A, (df - df_mean).T)"
   ]
  },
  {
   "cell_type": "markdown",
   "metadata": {},
   "source": [
    "Since df_2D is a transpose matrix of represented data lets consider its transpose and rename the columns for 2d data."
   ]
  },
  {
   "cell_type": "code",
   "execution_count": 24,
   "metadata": {},
   "outputs": [
    {
     "data": {
      "text/plain": [
       "array([[-29.48289226,   3.89604849],\n",
       "       [ 11.92890298,   3.23034894],\n",
       "       [ -2.04692165,  -1.77075749],\n",
       "       [ 19.32766299,  -1.17837492],\n",
       "       [ 21.62422262,   0.54635157],\n",
       "       [  6.40627556,   6.66479197],\n",
       "       [ 46.61302102,   4.79014063],\n",
       "       [ -7.13775006,   4.36269663],\n",
       "       [ 10.35091437,  -0.35162554],\n",
       "       [ 10.49716995,   6.99064424],\n",
       "       [-27.2604998 ,  -1.1616539 ],\n",
       "       [-41.98321465,   1.70670896],\n",
       "       [-15.18181088,  11.0365698 ],\n",
       "       [ 59.23787701,   1.41887596],\n",
       "       [-16.57490343,   2.28862629],\n",
       "       [ -1.76792118, -12.80333211],\n",
       "       [-35.09469534,  -5.8798037 ],\n",
       "       [  5.25945277, -13.13970671],\n",
       "       [-10.26542846,   3.83860817],\n",
       "       [ 35.80326771,  -5.73743432],\n",
       "       [-10.68151106,   1.23898149],\n",
       "       [ -4.53363471,   1.6900047 ],\n",
       "       [ -6.96645286,   5.38876404],\n",
       "       [ -9.37279745,   3.0736683 ],\n",
       "       [-10.37628277,  -9.61031628],\n",
       "       [  5.95392209,  -8.80014782],\n",
       "       [ -8.4218311 , -10.02808149],\n",
       "       [ -5.27169976,   3.3380886 ],\n",
       "       [ -3.13917454,   4.06331284],\n",
       "       [ 12.55673291,   0.89800266]])"
      ]
     },
     "execution_count": 24,
     "metadata": {},
     "output_type": "execute_result"
    }
   ],
   "source": [
    "df_2D.T"
   ]
  },
  {
   "cell_type": "markdown",
   "metadata": {},
   "source": [
    "> **Three dimensional representation of given data**"
   ]
  },
  {
   "cell_type": "markdown",
   "metadata": {},
   "source": [
    "Similarly for 3 dimensional representation consider top 3 eigen vectors"
   ]
  },
  {
   "cell_type": "code",
   "execution_count": 9,
   "metadata": {},
   "outputs": [
    {
     "data": {
      "text/plain": [
       "array([[ 0.15770389,  0.98746116, -0.0013496 ,  0.0069367 ],\n",
       "       [ 0.98394036, -0.15766924,  0.02475957,  0.07992964],\n",
       "       [-0.07798697,  0.00778022,  0.61448481,  0.78502606]])"
      ]
     },
     "execution_count": 9,
     "metadata": {},
     "output_type": "execute_result"
    }
   ],
   "source": [
    "B = np.array([eig_vec[:, 0], eig_vec[:, 1], eig_vec[:, 2]])\n",
    "B"
   ]
  },
  {
   "cell_type": "markdown",
   "metadata": {},
   "source": [
    "Now apply transformation to obtain new values in 3 dimensional representaion, apply transpose and rename columns to get 3d data."
   ]
  },
  {
   "cell_type": "code",
   "execution_count": 25,
   "metadata": {},
   "outputs": [
    {
     "data": {
      "text/plain": [
       "array([[-2.94828923e+01,  3.89604849e+00, -7.34716269e-01],\n",
       "       [ 1.19289030e+01,  3.23034894e+00, -4.11844797e-01],\n",
       "       [-2.04692165e+00, -1.77075749e+00,  1.14744722e+00],\n",
       "       [ 1.93276630e+01, -1.17837492e+00, -5.74959748e-01],\n",
       "       [ 2.16242226e+01,  5.46351573e-01, -2.70494985e-03],\n",
       "       [ 6.40627556e+00,  6.66479197e+00, -1.04928273e+00],\n",
       "       [ 4.66130210e+01,  4.79014063e+00, -8.60275626e-01],\n",
       "       [-7.13775006e+00,  4.36269663e+00,  3.65899290e-01],\n",
       "       [ 1.03509144e+01, -3.51625545e-01, -1.27112006e+00],\n",
       "       [ 1.04971699e+01,  6.99064424e+00,  4.59775603e-01],\n",
       "       [-2.72604998e+01, -1.16165390e+00,  2.83941234e-01],\n",
       "       [-4.19832147e+01,  1.70670896e+00, -9.60913387e-01],\n",
       "       [-1.51818109e+01,  1.10365698e+01, -2.30579792e-01],\n",
       "       [ 5.92378770e+01,  1.41887596e+00, -6.06072035e-01],\n",
       "       [-1.65749034e+01,  2.28862629e+00, -6.80957285e-01],\n",
       "       [-1.76792118e+00, -1.28033321e+01, -8.03315202e-01],\n",
       "       [-3.50946953e+01, -5.87980370e+00, -7.33380439e-01],\n",
       "       [ 5.25945277e+00, -1.31397067e+01,  1.87122324e-01],\n",
       "       [-1.02654285e+01,  3.83860817e+00,  1.07918287e+00],\n",
       "       [ 3.58032677e+01, -5.73743432e+00,  9.68073231e-01],\n",
       "       [-1.06815111e+01,  1.23898149e+00,  1.24007356e+00],\n",
       "       [-4.53363471e+00,  1.69000470e+00,  1.30247366e+00],\n",
       "       [-6.96645286e+00,  5.38876404e+00, -6.63056159e-01],\n",
       "       [-9.37279745e+00,  3.07366830e+00,  8.34038128e-01],\n",
       "       [-1.03762828e+01, -9.61031628e+00, -3.16203760e-01],\n",
       "       [ 5.95392209e+00, -8.80014782e+00, -2.22141019e-02],\n",
       "       [-8.42183110e+00, -1.00280815e+01,  2.32609560e-01],\n",
       "       [-5.27169976e+00,  3.33808860e+00, -2.19068569e-01],\n",
       "       [-3.13917454e+00,  4.06331284e+00,  9.10229442e-01],\n",
       "       [ 1.25567329e+01,  8.98002656e-01,  1.12979879e+00]])"
      ]
     },
     "execution_count": 25,
     "metadata": {},
     "output_type": "execute_result"
    }
   ],
   "source": [
    "df_3D = np.matmul(B, (df - df_mean).T)\n",
    "df_3D.T"
   ]
  },
  {
   "cell_type": "markdown",
   "metadata": {},
   "source": [
    "### C. Plot the scatter plots to compares the features after reduction: feature1 vs feature2, feature1 vs feature3, feature2 v feature3"
   ]
  },
  {
   "cell_type": "markdown",
   "metadata": {},
   "source": [
    "> **For 2D Data**"
   ]
  },
  {
   "cell_type": "code",
   "execution_count": 21,
   "metadata": {},
   "outputs": [
    {
     "data": {
      "image/png": "[encoded data removed]",
      "text/plain": [
       "<Figure size 432x288 with 1 Axes>"
      ]
     },
     "metadata": {
      "needs_background": "light"
     },
     "output_type": "display_data"
    }
   ],
   "source": [
    "plt.scatter(df_2D[0], df_2D[1])\n",
    "plt.title(\"Feature1 vs Feature2\")\n",
    "plt.xlabel(\"Feature1\")\n",
    "plt.ylabel(\"Feature2\")\n",
    "plt.show()"
   ]
  },
  {
   "cell_type": "markdown",
   "metadata": {},
   "source": [
    "> **For 3D Data**"
   ]
  },
  {
   "cell_type": "code",
   "execution_count": 22,
   "metadata": {},
   "outputs": [
    {
     "data": {
      "image/png": "[encoded data removed]",
      "text/plain": [
       "<Figure size 432x288 with 1 Axes>"
      ]
     },
     "metadata": {
      "needs_background": "light"
     },
     "output_type": "display_data"
    }
   ],
   "source": [
    "plt.scatter(df_3D[0], df_3D[1])\n",
    "plt.title(\"Feature1 vs Feature2\")\n",
    "plt.xlabel(\"Feature1\")\n",
    "plt.ylabel(\"Feature2\")\n",
    "plt.show()"
   ]
  },
  {
   "cell_type": "code",
   "execution_count": 23,
   "metadata": {},
   "outputs": [
    {
     "data": {
      "image/png": "[encoded data removed]",
      "text/plain": [
       "<Figure size 432x288 with 1 Axes>"
      ]
     },
     "metadata": {
      "needs_background": "light"
     },
     "output_type": "display_data"
    }
   ],
   "source": [
    "plt.scatter(df_3D[0], df_3D[2])\n",
    "plt.title(\"Feature1 vs Feature3\")\n",
    "plt.xlabel(\"Feature1\")\n",
    "plt.ylabel(\"Feature3\")\n",
    "plt.show()"
   ]
  },
  {
   "cell_type": "code",
   "execution_count": 26,
   "metadata": {},
   "outputs": [
    {
     "data": {
      "image/png": "[encoded data removed]",
      "text/plain": [
       "<Figure size 432x288 with 1 Axes>"
      ]
     },
     "metadata": {
      "needs_background": "light"
     },
     "output_type": "display_data"
    }
   ],
   "source": [
    "plt.scatter(df_3D[1], df_3D[2])\n",
    "plt.title(\"Feature2 vs Feature3\")\n",
    "plt.xlabel(\"Feature2\")\n",
    "plt.ylabel(\"Feature3\")\n",
    "plt.show()"
   ]
  },
  {
   "cell_type": "markdown",
   "metadata": {},
   "source": [
    "### D. Also perform inverse transformation to get original data and find Mean Square Error as discussed in class."
   ]
  },
  {
   "cell_type": "markdown",
   "metadata": {},
   "source": [
    "> **Transformation and MSE for 2D data**"
   ]
  },
  {
   "cell_type": "code",
   "execution_count": 15,
   "metadata": {},
   "outputs": [
    {
     "data": {
      "text/plain": [
       "array([[ 77.54891254, 136.0058353 ,  10.26392112,  13.05022901],\n",
       "       [ 83.4247051 , 177.00333504,  10.19154953,  13.2842812 ],\n",
       "       [ 76.29987273, 163.9912717 ,  10.08658599,  12.78759844],\n",
       "       [ 80.253597  , 185.00444334,  10.07240609,  12.98321651],\n",
       "       [ 82.31280139, 187.00027046,  10.11201015,  13.13700382],\n",
       "       [ 85.93305237, 171.00844892,  10.28403817,  13.52048616],\n",
       "       [ 90.42926744, 211.00662332,  10.18335979,  13.6495482 ],\n",
       "       [ 81.53198233, 157.99721929,  10.24531823,  13.24252964],\n",
       "       [ 79.6514009 , 176.00989978,  10.10499103,  12.98702925],\n",
       "       [ 86.89882153, 174.99667136,  10.28658509,  13.57490873],\n",
       "       [ 72.92291497, 138.99780566,  10.13569525,  12.66138478],\n",
       "       [ 73.42338355, 124.00744396,  10.22658439,  12.78852488],\n",
       "       [ 86.83009579, 149.00175712,  10.42141669,  13.72017063],\n",
       "       [ 89.10313298, 224.00472301,  10.08285028,  13.46765911],\n",
       "       [ 78.00294501, 149.00541398,  10.20670148,  13.01128722],\n",
       "       [ 65.48847678, 166.00627153,   9.81304764,  11.90770411],\n",
       "       [ 67.04505387, 132.00574895,  10.02944888,  12.2299213 ],\n",
       "       [ 66.26574844, 172.99856629,   9.79523504,  11.92956462],\n",
       "       [ 80.52306349, 154.99139099,  10.23656313,  13.17894366],\n",
       "       [ 78.36602143, 201.99228655,   9.93729035,  12.73309892],\n",
       "       [ 77.89956804, 154.99040675,  10.17275903,  12.96827021],\n",
       "       [ 79.31289199, 160.99008338,  10.17562903,  13.04696632],\n",
       "       [ 82.5685857 , 158.00458935,  10.27049204,  13.32573107],\n",
       "       [ 79.91117967, 155.99343693,  10.21641885,  13.12399421],\n",
       "       [ 67.27264181, 157.00240841,   9.90372314,  12.10320706],\n",
       "       [ 70.64513609, 173.00011281,   9.9017434 ,  12.28124131],\n",
       "       [ 67.16981039, 158.99822225,   9.89074174,  12.08337269],\n",
       "       [ 80.81811253, 160.00142066,  10.21743097,  13.17357733],\n",
       "       [ 81.86799745, 161.99286093,  10.23250916,  13.24633693],\n",
       "       [ 81.22882668, 177.99103199,  10.13295432,  13.10221268]])"
      ]
     },
     "execution_count": 15,
     "metadata": {},
     "output_type": "execute_result"
    }
   ],
   "source": [
    "df_pca_2D = np.matmul(A.T, df_2D).T + df_mean\n",
    "df_pca_2D"
   ]
  },
  {
   "cell_type": "code",
   "execution_count": 16,
   "metadata": {},
   "outputs": [
    {
     "name": "stdout",
     "output_type": "stream",
     "text": [
      "MSE of 2D data:  0.6899206517901066\n"
     ]
    }
   ],
   "source": [
    "mse_2D = (np.sum((df - df_pca_2D)**2)/len(df))\n",
    "print(\"MSE of 2D data: \", mse_2D)"
   ]
  },
  {
   "cell_type": "markdown",
   "metadata": {},
   "source": [
    "> **Transformation and MSE for 3D data**"
   ]
  },
  {
   "cell_type": "code",
   "execution_count": 17,
   "metadata": {},
   "outputs": [
    {
     "data": {
      "text/plain": [
       "array([[ 77.60621083, 136.00011905,   9.81244913,  12.4734576 ],\n",
       "       [ 83.45682362, 177.00013079,   9.93847716,  12.9609723 ],\n",
       "       [ 76.2103868 , 164.00019909,  10.79167488,  13.68837442],\n",
       "       [ 80.29843637, 184.99997003,   9.71910206,  12.53185812],\n",
       "       [ 82.31301235, 187.00024942,  10.110348  ,  13.13488036],\n",
       "       [ 86.01488275, 171.00028527,   9.63926987,  12.69677187],\n",
       "       [ 90.49635773, 210.99993019,   9.65473348,  12.97420941],\n",
       "       [ 81.50344696, 158.00006607,  10.47015779,  13.52977012],\n",
       "       [ 79.7505317 , 176.00001019,   9.32390706,  11.98916687],\n",
       "       [ 86.86296502, 175.00024851,  10.56911021,  13.93584456],\n",
       "       [ 72.90077126, 139.00001478,  10.31017283,  12.88428605],\n",
       "       [ 73.49832227, 123.99996784,   9.6361177 ,  12.03418283],\n",
       "       [ 86.84807801, 148.99996316,  10.27972891,  13.53915949],\n",
       "       [ 89.1503987 , 224.00000764,   9.71042822,  12.99187677],\n",
       "       [ 78.05605081, 149.00011598,   9.78826357,  12.47671801],\n",
       "       [ 65.5511249 , 166.00002156,   9.31942265,  11.27708074],\n",
       "       [ 67.10224798, 132.00004309,   9.57879774,  11.65419854],\n",
       "       [ 66.25115534, 173.00002215,   9.91021887,  12.07646052],\n",
       "       [ 80.43890129, 154.99978726,  10.89970461,  14.02613034],\n",
       "       [ 78.29052434, 201.99981837,  10.53215664,  13.49306163],\n",
       "       [ 77.80285847, 155.00005479,  10.9347654 ,  13.94176027],\n",
       "       [ 79.21131602, 161.0002169 ,  10.97597931,  14.06944208],\n",
       "       [ 82.62029544, 157.99943063,   9.8630541 ,  12.8052147 ],\n",
       "       [ 79.84613556, 155.99992593,  10.72892262,  13.77873588],\n",
       "       [ 67.29730158, 156.99994828,   9.70942074,  11.85497887],\n",
       "       [ 70.6468685 , 172.99993998,   9.88809318,  12.26380266],\n",
       "       [ 67.15166987, 159.00003201,  10.03367678,  12.26597726],\n",
       "       [ 80.83519702, 159.99971626,  10.08281666,  13.00160279],\n",
       "       [ 81.79701142, 161.99994272,  10.79183133,  13.96089076],\n",
       "       [ 81.1407171 , 177.99982207,  10.82719852,  13.98913418]])"
      ]
     },
     "execution_count": 17,
     "metadata": {},
     "output_type": "execute_result"
    }
   ],
   "source": [
    "df_pca_3D = np.matmul(B.T, df_3D).T + df_mean\n",
    "df_pca_3D"
   ]
  },
  {
   "cell_type": "code",
   "execution_count": 18,
   "metadata": {},
   "outputs": [
    {
     "name": "stdout",
     "output_type": "stream",
     "text": [
      "MSE of 3D data:  0.08845708085951672\n"
     ]
    }
   ],
   "source": [
    "mse_3D = (np.sum((df - df_pca_3D)**2)/len(df))\n",
    "print(\"MSE of 3D data: \", mse_3D)"
   ]
  },
  {
   "cell_type": "code",
   "execution_count": null,
   "metadata": {},
   "outputs": [],
   "source": []
  }
 ],
 "metadata": {
  "kernelspec": {
   "display_name": "Python 3 (ipykernel)",
   "language": "python",
   "name": "python3"
  },
  "language_info": {
   "codemirror_mode": {
    "name": "ipython",
    "version": 3
   },
   "file_extension": ".py",
   "mimetype": "text/x-python",
   "name": "python",
   "nbconvert_exporter": "python",
   "pygments_lexer": "ipython3",
   "version": "3.9.12"
  }
 },
 "nbformat": 4,
 "nbformat_minor": 2
}
